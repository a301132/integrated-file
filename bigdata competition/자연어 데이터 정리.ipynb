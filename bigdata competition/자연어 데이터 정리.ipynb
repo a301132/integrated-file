{
 "cells": [
  {
   "cell_type": "markdown",
   "metadata": {},
   "source": [
    "## Scarping으로 모아온 데이터 정리"
   ]
  },
  {
   "cell_type": "code",
   "execution_count": 2,
   "metadata": {},
   "outputs": [],
   "source": [
    "import pandas as pd\n",
    "import numpy as np\n",
    "import os\n",
    "import re\n",
    "from hanspell import spell_checker\n",
    "import kss"
   ]
  },
  {
   "cell_type": "code",
   "execution_count": 17,
   "metadata": {},
   "outputs": [],
   "source": [
    "aa = pd.read_excel('gigawan_validation_kk.xlsx',index_col=0)\n",
    "bb = pd.read_excel('chaeyong_validation_kk.xlsx',index_col=0)\n",
    "cc = pd.read_excel('haksa_validation_kk.xlsx',index_col=0)\n",
    "dd = pd.read_excel('janghak_validation_kk.xlsx',index_col=0)\n"
   ]
  },
  {
   "cell_type": "code",
   "execution_count": 8,
   "metadata": {},
   "outputs": [
    {
     "data": {
      "text/plain": [
       "Index([0, 1, '대학생', '대학원생', '교직원', '교수', '일반인', '합계', '비고'], dtype='object')"
      ]
     },
     "execution_count": 8,
     "metadata": {},
     "output_type": "execute_result"
    }
   ],
   "source": [
    "aa.columns"
   ]
  },
  {
   "cell_type": "code",
   "execution_count": 9,
   "metadata": {},
   "outputs": [],
   "source": [
    "### 대학생, 대학원생, 교직원,  교수, 일반인, 합계"
   ]
  },
  {
   "cell_type": "code",
   "execution_count": 18,
   "metadata": {},
   "outputs": [
    {
     "name": "stdout",
     "output_type": "stream",
     "text": [
      "40\n",
      "33\n",
      "22\n",
      "12\n",
      "10\n",
      "14\n",
      "25\n"
     ]
    }
   ],
   "source": [
    "print(aa.shape[0])\n",
    "print(aa.대학생.sum())\n",
    "print(aa.대학원생.sum())\n",
    "print(aa.교직원.sum())\n",
    "print(aa.교수.sum())\n",
    "print(aa.일반인.sum())\n",
    "print(aa[aa.합계>1].shape[0])"
   ]
  },
  {
   "cell_type": "code",
   "execution_count": 19,
   "metadata": {},
   "outputs": [
    {
     "name": "stdout",
     "output_type": "stream",
     "text": [
      "26\n",
      "0\n",
      "0\n",
      "0\n",
      "0\n",
      "26\n",
      "0\n"
     ]
    }
   ],
   "source": [
    "print(bb.shape[0])\n",
    "print(bb.대학생.sum())\n",
    "print(bb.대학원생.sum())\n",
    "print(bb.교직원.sum())\n",
    "print(bb.교수.sum())\n",
    "print(bb.일반인.sum())\n",
    "print(bb[bb.합계>1].shape[0])"
   ]
  },
  {
   "cell_type": "code",
   "execution_count": 20,
   "metadata": {},
   "outputs": [
    {
     "name": "stdout",
     "output_type": "stream",
     "text": [
      "14\n",
      "14\n",
      "2\n",
      "1\n",
      "1\n",
      "1\n",
      "2\n"
     ]
    }
   ],
   "source": [
    "print(cc.shape[0])\n",
    "print(cc.대학생.sum())\n",
    "print(cc.대학원생.sum())\n",
    "print(cc.교직원.sum())\n",
    "print(cc.교수.sum())\n",
    "print(cc.일반인.sum())\n",
    "print(cc[cc.합계>1].shape[0])"
   ]
  },
  {
   "cell_type": "code",
   "execution_count": 21,
   "metadata": {},
   "outputs": [
    {
     "name": "stdout",
     "output_type": "stream",
     "text": [
      "12\n",
      "12\n",
      "0\n",
      "0\n",
      "0\n",
      "0\n",
      "0\n"
     ]
    }
   ],
   "source": [
    "print(dd.shape[0])\n",
    "print(dd.대학생.sum())\n",
    "print(dd.대학원생.sum())\n",
    "print(dd.교직원.sum())\n",
    "print(dd.교수.sum())\n",
    "print(dd.일반인.sum())\n",
    "print(dd[dd.합계>1].shape[0])"
   ]
  },
  {
   "cell_type": "code",
   "execution_count": 22,
   "metadata": {},
   "outputs": [
    {
     "ename": "NameError",
     "evalue": "name 'ee' is not defined",
     "output_type": "error",
     "traceback": [
      "\u001b[1;31m---------------------------------------------------------------------------\u001b[0m",
      "\u001b[1;31mNameError\u001b[0m                                 Traceback (most recent call last)",
      "\u001b[1;32m<ipython-input-22-5d5b6629b682>\u001b[0m in \u001b[0;36m<module>\u001b[1;34m\u001b[0m\n\u001b[1;32m----> 1\u001b[1;33m \u001b[0mee\u001b[0m\u001b[1;33m.\u001b[0m\u001b[0mcolumns\u001b[0m\u001b[1;33m\u001b[0m\u001b[1;33m\u001b[0m\u001b[0m\n\u001b[0m",
      "\u001b[1;31mNameError\u001b[0m: name 'ee' is not defined"
     ]
    }
   ],
   "source": [
    "ee.columns"
   ]
  },
  {
   "cell_type": "code",
   "execution_count": 23,
   "metadata": {},
   "outputs": [
    {
     "ename": "NameError",
     "evalue": "name 'ee' is not defined",
     "output_type": "error",
     "traceback": [
      "\u001b[1;31m---------------------------------------------------------------------------\u001b[0m",
      "\u001b[1;31mNameError\u001b[0m                                 Traceback (most recent call last)",
      "\u001b[1;32m<ipython-input-23-dcf416e16024>\u001b[0m in \u001b[0;36m<module>\u001b[1;34m\u001b[0m\n\u001b[1;32m----> 1\u001b[1;33m \u001b[0mprint\u001b[0m\u001b[1;33m(\u001b[0m\u001b[0mee\u001b[0m\u001b[1;33m.\u001b[0m\u001b[0mshape\u001b[0m\u001b[1;33m[\u001b[0m\u001b[1;36m0\u001b[0m\u001b[1;33m]\u001b[0m\u001b[1;33m)\u001b[0m\u001b[1;33m\u001b[0m\u001b[1;33m\u001b[0m\u001b[0m\n\u001b[0m\u001b[0;32m      2\u001b[0m \u001b[0mprint\u001b[0m\u001b[1;33m(\u001b[0m\u001b[0mee\u001b[0m\u001b[1;33m.\u001b[0m\u001b[0m대학생\u001b[0m\u001b[1;33m.\u001b[0m\u001b[0msum\u001b[0m\u001b[1;33m(\u001b[0m\u001b[1;33m)\u001b[0m\u001b[1;33m)\u001b[0m\u001b[1;33m\u001b[0m\u001b[1;33m\u001b[0m\u001b[0m\n\u001b[0;32m      3\u001b[0m \u001b[0mprint\u001b[0m\u001b[1;33m(\u001b[0m\u001b[0mee\u001b[0m\u001b[1;33m.\u001b[0m\u001b[0m대학원생\u001b[0m\u001b[1;33m.\u001b[0m\u001b[0msum\u001b[0m\u001b[1;33m(\u001b[0m\u001b[1;33m)\u001b[0m\u001b[1;33m)\u001b[0m\u001b[1;33m\u001b[0m\u001b[1;33m\u001b[0m\u001b[0m\n\u001b[0;32m      4\u001b[0m \u001b[0mprint\u001b[0m\u001b[1;33m(\u001b[0m\u001b[0mee\u001b[0m\u001b[1;33m.\u001b[0m\u001b[0m교직원\u001b[0m\u001b[1;33m.\u001b[0m\u001b[0msum\u001b[0m\u001b[1;33m(\u001b[0m\u001b[1;33m)\u001b[0m\u001b[1;33m)\u001b[0m\u001b[1;33m\u001b[0m\u001b[1;33m\u001b[0m\u001b[0m\n\u001b[0;32m      5\u001b[0m \u001b[0mprint\u001b[0m\u001b[1;33m(\u001b[0m\u001b[0mee\u001b[0m\u001b[1;33m[\u001b[0m\u001b[1;34m'교수 '\u001b[0m\u001b[1;33m]\u001b[0m\u001b[1;33m.\u001b[0m\u001b[0msum\u001b[0m\u001b[1;33m(\u001b[0m\u001b[1;33m)\u001b[0m\u001b[1;33m)\u001b[0m\u001b[1;33m\u001b[0m\u001b[1;33m\u001b[0m\u001b[0m\n",
      "\u001b[1;31mNameError\u001b[0m: name 'ee' is not defined"
     ]
    }
   ],
   "source": [
    "print(ee.shape[0])\n",
    "print(ee.대학생.sum())\n",
    "print(ee.대학원생.sum())\n",
    "print(ee.교직원.sum())\n",
    "print(ee['교수 '].sum())\n",
    "print(ee.일반인.sum())\n",
    "print(ee[ee['합계 ']>1].shape[0])"
   ]
  },
  {
   "cell_type": "code",
   "execution_count": 24,
   "metadata": {},
   "outputs": [
    {
     "name": "stdout",
     "output_type": "stream",
     "text": [
      "0\n",
      "0\n"
     ]
    }
   ],
   "source": [
    "print(aa[aa.비고 =='이미지'].shape[0])\n",
    "# print(bb[bb.비고 =='이미지'].shape[0])\n",
    "print(cc[cc.비고 =='이미지'].shape[0])\n",
    "# print(dd[dd.비고 =='이미지'].shape[0])\n",
    "# print(ee[ee.비고 =='이미지'].shape[0])"
   ]
  },
  {
   "cell_type": "code",
   "execution_count": 14,
   "metadata": {},
   "outputs": [],
   "source": [
    "strings = aa.context[0]"
   ]
  },
  {
   "cell_type": "code",
   "execution_count": 50,
   "metadata": {},
   "outputs": [],
   "source": [
    "def SC_clean(data):\n",
    "    '''\n",
    "    특수문자(Speical Characters) 삭제\n",
    "    '''\n",
    "    check_strings = re.compile('[^ ㄱ-ㅣ가-힣 | 0-9]+')\n",
    "    jungli = check_strings.sub('',data)\n",
    "    jungli = jungli.replace('|',' ')\n",
    "    return jungli"
   ]
  },
  {
   "cell_type": "code",
   "execution_count": 29,
   "metadata": {},
   "outputs": [],
   "source": [
    "test_sent = SC_clean(strings)"
   ]
  },
  {
   "cell_type": "code",
   "execution_count": 30,
   "metadata": {},
   "outputs": [
    {
     "data": {
      "text/plain": [
       "' 교섭요구 노동조합의 확정 공고   노동조합 및 노동관계조정법 시행령 제14조의5 제1항의 규정에 따라 2021 2 15  2 22 교섭요구 사실에 대한 공고기간 중 경상대학교에 교섭을 요구한 노동조합에 대하여 아래와 같이 공고합니다   공고기간 2021 2 23  2021 2 27 5일간  교섭을 요구한 노동조합의 명칭  한국비정규교수노동조합 경상대분회  그 대표자  한국비정규교수노동조합 경상대분회장 최승제  교섭 요구일자  2021 2 10수  조합원수교섭요구일 현재  70명  공고내용이 노동조합이 제출한 내용과 다르게 공고되거나 공고되지 않은 경우에는 공고기간 중에 교무과로 이의신청하여 주시기 바랍니다    2021 2 23   경 상 대 학 교 총 장'"
      ]
     },
     "execution_count": 30,
     "metadata": {},
     "output_type": "execute_result"
    }
   ],
   "source": [
    "test_sent"
   ]
  },
  {
   "cell_type": "code",
   "execution_count": 31,
   "metadata": {},
   "outputs": [],
   "source": [
    "non_number = ''\n",
    "for i in test_sent.split(' '):\n",
    "    if re.search('\\d',i) ==None:\n",
    "        non_number = non_number + ' ' + i\n",
    "non_number = non_number.strip()"
   ]
  },
  {
   "cell_type": "code",
   "execution_count": 32,
   "metadata": {
    "scrolled": true
   },
   "outputs": [
    {
     "data": {
      "text/plain": [
       "{'result': True,\n",
       " 'original': '교섭요구 노동조합의 확정 공고   노동조합 및 노동관계조정법 시행령 규정에 따라  교섭요구 사실에 대한 공고기간 중 경상대학교에 교섭을 요구한 노동조합에 대하여 아래와 같이 공고합니다   공고기간   교섭을 요구한 노동조합의 명칭  한국비정규교수노동조합 경상대분회  그 대표자  한국비정규교수노동조합 경상대분회장 최승제  교섭 요구일자   조합원수교섭요구일 현재   공고내용이 노동조합이 제출한 내용과 다르게 공고되거나 공고되지 않은 경우에는 공고기간 중에 교무과로 이의신청하여 주시기 바랍니다      경 상 대 학 교 총 장',\n",
       " 'checked': '교섭요구 노동조합의 확정 공고   노동조합 및 노동관계조정법 시행령 규정에 따라  교섭요구 사실에 대한 공고기간 중 경상대학교에 교섭을 요구한 노동조합에 대하여 아래와 같이 공고합니다   공고기간   교섭을 요구한 노동조합의 명칭  한국비정규교수 노동조합 경상대 분회  그 대표자  한국비정규교수 노동조합 경상 대분회장 최승재  교섭 요구 일자   조합원 수 교섭요구일 현재   공고 내용이 노동조합이 제출한 내용과 다르게 공고되거나 공고되지 않은 경우에는 공고기간 중에 교무과로 이의신청하여 주시기 바랍니다      경 상 대 학 교 총 장',\n",
       " 'errors': 8,\n",
       " 'words': OrderedDict([('교섭요구', 0),\n",
       "              ('노동조합의', 0),\n",
       "              ('확정', 0),\n",
       "              ('공고', 2),\n",
       "              ('', 0),\n",
       "              ('노동조합', 2),\n",
       "              ('및', 0),\n",
       "              ('노동관계조정법', 0),\n",
       "              ('시행령', 0),\n",
       "              ('규정에', 0),\n",
       "              ('따라', 0),\n",
       "              ('사실에', 0),\n",
       "              ('대한', 0),\n",
       "              ('공고기간', 0),\n",
       "              ('중', 0),\n",
       "              ('경상대학교에', 0),\n",
       "              ('교섭을', 0),\n",
       "              ('요구한', 0),\n",
       "              ('노동조합에', 0),\n",
       "              ('대하여', 0),\n",
       "              ('아래와', 0),\n",
       "              ('같이', 0),\n",
       "              ('공고합니다', 0),\n",
       "              ('명칭', 0),\n",
       "              ('한국비정규교수', 2),\n",
       "              ('경상대', 2),\n",
       "              ('분회', 2),\n",
       "              ('그', 0),\n",
       "              ('대표자', 0),\n",
       "              ('경상', 2),\n",
       "              ('대분회장', 2),\n",
       "              ('최승재', 4),\n",
       "              ('교섭', 0),\n",
       "              ('요구', 2),\n",
       "              ('일자', 2),\n",
       "              ('조합원', 2),\n",
       "              ('수', 2),\n",
       "              ('교섭요구일', 2),\n",
       "              ('현재', 0),\n",
       "              ('내용이', 2),\n",
       "              ('노동조합이', 0),\n",
       "              ('제출한', 0),\n",
       "              ('내용과', 0),\n",
       "              ('다르게', 0),\n",
       "              ('공고되거나', 0),\n",
       "              ('공고되지', 0),\n",
       "              ('않은', 0),\n",
       "              ('경우에는', 0),\n",
       "              ('중에', 0),\n",
       "              ('교무과로', 0),\n",
       "              ('이의신청하여', 0),\n",
       "              ('주시기', 0),\n",
       "              ('바랍니다', 0),\n",
       "              ('경', 0),\n",
       "              ('상', 0),\n",
       "              ('대', 0),\n",
       "              ('학', 0),\n",
       "              ('교', 0),\n",
       "              ('총', 0),\n",
       "              ('장', 0)]),\n",
       " 'time': 0.1742095947265625}"
      ]
     },
     "execution_count": 32,
     "metadata": {},
     "output_type": "execute_result"
    }
   ],
   "source": [
    "result = spell_checker.check(non_number)\n",
    "result.as_dict()"
   ]
  },
  {
   "cell_type": "code",
   "execution_count": 33,
   "metadata": {},
   "outputs": [],
   "source": [
    "cleaning_sentence = result.checked"
   ]
  },
  {
   "cell_type": "code",
   "execution_count": 39,
   "metadata": {},
   "outputs": [],
   "source": [
    "test_strings = ''\n",
    "for sent in kss.split_sentences(cleaning_sentence):\n",
    "    test_strings = test_strings + ' ' + sent\n",
    "test_strings = test_strings.strip()"
   ]
  },
  {
   "cell_type": "code",
   "execution_count": 40,
   "metadata": {},
   "outputs": [
    {
     "data": {
      "text/plain": [
       "'교섭요구 노동조합의 확정 공고 노동조합 및 노동관계조정법 시행령 규정에 따라 교섭요구 사실에 대한 공고기간 중 경상대학교에 교섭을 요구한 노동조합에 대하여 아래와 같이 공고합니다 공고기간 교섭을 요구한 노동조합의 명칭 한국비정규교수 노동조합 경상대 분회 그 대표자 한국비정규교수 노동조합 경상 대분회장 최승재 교섭 요구 일자 조합원 수 교섭요구일 현재 공고 내용이 노동조합이 제출한 내용과 다르게 공고되거나 공고되지 않은 경우에는 공고기간 중에 교무과로 이의신청하여 주시기 바랍니다 경 상 대 학 교 총 장'"
      ]
     },
     "execution_count": 40,
     "metadata": {},
     "output_type": "execute_result"
    }
   ],
   "source": [
    "test_strings"
   ]
  },
  {
   "cell_type": "code",
   "execution_count": 88,
   "metadata": {},
   "outputs": [],
   "source": [
    "from tqdm.notebook import tqdm"
   ]
  },
  {
   "cell_type": "markdown",
   "metadata": {},
   "source": [
    "## 네이버 맞춤법검사기로 오탈자 확인 및 변경"
   ]
  },
  {
   "cell_type": "code",
   "execution_count": 315,
   "metadata": {},
   "outputs": [
    {
     "data": {
      "application/vnd.jupyter.widget-view+json": {
       "model_id": "60f36855c71349c38242c65b271c8eee",
       "version_major": 2,
       "version_minor": 0
      },
      "text/plain": [
       "HBox(children=(HTML(value=''), FloatProgress(value=0.0, max=234.0), HTML(value='')))"
      ]
     },
     "metadata": {},
     "output_type": "display_data"
    },
    {
     "name": "stdout",
     "output_type": "stream",
     "text": [
      "\n"
     ]
    }
   ],
   "source": [
    "lst = []\n",
    "for i in tqdm(ee.title):\n",
    "    if pd.isna(i) == True:\n",
    "        lst.append('')\n",
    "        pass\n",
    "    else:\n",
    "        test_sent = SC_clean(i)\n",
    "        non_number = ''\n",
    "    for j in test_sent.split(' '):\n",
    "        if re.search('\\d',j) == None:\n",
    "            non_number = non_number + ' ' + j\n",
    "    non_number = non_number.strip()\n",
    "    ### 500자 제한 문제\n",
    "    strings = ''\n",
    "    for counting_num in kss.split_sentences(non_number):\n",
    "        if len(counting_num) >499:\n",
    "            interval_num = round(len(counting_num.split(' '))/2)\n",
    "            a = ' '.join(counting_num.split(' ')[:interval_num])\n",
    "            b = ' '.join(counting_num.split(' ')[interval_num:])\n",
    "            result_a = spell_checker.check(a)\n",
    "            result_b = spell_checker.check(b)\n",
    "            strings = result_a.checked + ' ' + result_b.checked\n",
    "        else:\n",
    "            result = spell_checker.check(counting_num)\n",
    "            strings = strings +' '+ result.checked\n",
    "    \n",
    "    cleaning_sentence = strings.strip()\n",
    "    test_strings = ''\n",
    "    for sent in kss.split_sentences(cleaning_sentence):\n",
    "        test_strings = test_strings + ' ' + sent\n",
    "    test_strings = test_strings.strip()\n",
    "    lst.append(test_strings)"
   ]
  },
  {
   "cell_type": "code",
   "execution_count": 316,
   "metadata": {},
   "outputs": [
    {
     "data": {
      "application/vnd.jupyter.widget-view+json": {
       "model_id": "b325204d047049c0b6df7c0b3c5957a1",
       "version_major": 2,
       "version_minor": 0
      },
      "text/plain": [
       "HBox(children=(HTML(value=''), FloatProgress(value=0.0, max=234.0), HTML(value='')))"
      ]
     },
     "metadata": {},
     "output_type": "display_data"
    },
    {
     "name": "stdout",
     "output_type": "stream",
     "text": [
      "\n"
     ]
    }
   ],
   "source": [
    "lst2 = []\n",
    "for i in tqdm(ee.context):\n",
    "    if pd.isna(i) == True:\n",
    "        lst.append('')\n",
    "        pass\n",
    "    else:\n",
    "        test_sent = SC_clean(i)\n",
    "        non_number = ''\n",
    "    for j in test_sent.split(' '):\n",
    "        if re.search('\\d',j) == None:\n",
    "            non_number = non_number + ' ' + j\n",
    "    non_number = non_number.strip()\n",
    "    ### 500자 제한 문제\n",
    "    strings = ''\n",
    "    for counting_num in kss.split_sentences(non_number):\n",
    "        if len(counting_num) >499:\n",
    "            interval_num = round(len(counting_num.split(' '))/2)\n",
    "            a = ' '.join(counting_num.split(' ')[:interval_num])\n",
    "            b = ' '.join(counting_num.split(' ')[interval_num:])\n",
    "            result_a = spell_checker.check(a)\n",
    "            result_b = spell_checker.check(b)\n",
    "            strings = result_a.checked + ' ' + result_b.checked\n",
    "        else:\n",
    "            result = spell_checker.check(counting_num)\n",
    "            strings = strings +' '+ result.checked\n",
    "    \n",
    "    cleaning_sentence = strings.strip()\n",
    "    test_strings = ''\n",
    "    for sent in kss.split_sentences(cleaning_sentence):\n",
    "        test_strings = test_strings + ' ' + sent\n",
    "    test_strings = test_strings.strip()\n",
    "    lst2.append(test_strings)"
   ]
  },
  {
   "cell_type": "code",
   "execution_count": 317,
   "metadata": {},
   "outputs": [],
   "source": [
    "df_training = pd.DataFrame([lst,lst2]).T"
   ]
  },
  {
   "cell_type": "code",
   "execution_count": 337,
   "metadata": {},
   "outputs": [
    {
     "data": {
      "text/html": [
       "<div>\n",
       "<style scoped>\n",
       "    .dataframe tbody tr th:only-of-type {\n",
       "        vertical-align: middle;\n",
       "    }\n",
       "\n",
       "    .dataframe tbody tr th {\n",
       "        vertical-align: top;\n",
       "    }\n",
       "\n",
       "    .dataframe thead th {\n",
       "        text-align: right;\n",
       "    }\n",
       "</style>\n",
       "<table border=\"1\" class=\"dataframe\">\n",
       "  <thead>\n",
       "    <tr style=\"text-align: right;\">\n",
       "      <th></th>\n",
       "      <th>대학생</th>\n",
       "      <th>대학원생</th>\n",
       "      <th>교직원</th>\n",
       "      <th>교수</th>\n",
       "      <th>일반인</th>\n",
       "    </tr>\n",
       "  </thead>\n",
       "  <tbody>\n",
       "    <tr>\n",
       "      <th>0</th>\n",
       "      <td>1</td>\n",
       "      <td>1</td>\n",
       "      <td>1</td>\n",
       "      <td>1</td>\n",
       "      <td>0</td>\n",
       "    </tr>\n",
       "    <tr>\n",
       "      <th>1</th>\n",
       "      <td>1</td>\n",
       "      <td>1</td>\n",
       "      <td>1</td>\n",
       "      <td>1</td>\n",
       "      <td>0</td>\n",
       "    </tr>\n",
       "    <tr>\n",
       "      <th>2</th>\n",
       "      <td>0</td>\n",
       "      <td>0</td>\n",
       "      <td>1</td>\n",
       "      <td>1</td>\n",
       "      <td>1</td>\n",
       "    </tr>\n",
       "    <tr>\n",
       "      <th>3</th>\n",
       "      <td>0</td>\n",
       "      <td>0</td>\n",
       "      <td>1</td>\n",
       "      <td>1</td>\n",
       "      <td>1</td>\n",
       "    </tr>\n",
       "    <tr>\n",
       "      <th>4</th>\n",
       "      <td>1</td>\n",
       "      <td>1</td>\n",
       "      <td>1</td>\n",
       "      <td>1</td>\n",
       "      <td>0</td>\n",
       "    </tr>\n",
       "    <tr>\n",
       "      <th>...</th>\n",
       "      <td>...</td>\n",
       "      <td>...</td>\n",
       "      <td>...</td>\n",
       "      <td>...</td>\n",
       "      <td>...</td>\n",
       "    </tr>\n",
       "    <tr>\n",
       "      <th>246</th>\n",
       "      <td>1</td>\n",
       "      <td>1</td>\n",
       "      <td>1</td>\n",
       "      <td>1</td>\n",
       "      <td>1</td>\n",
       "    </tr>\n",
       "    <tr>\n",
       "      <th>247</th>\n",
       "      <td>1</td>\n",
       "      <td>1</td>\n",
       "      <td>1</td>\n",
       "      <td>1</td>\n",
       "      <td>1</td>\n",
       "    </tr>\n",
       "    <tr>\n",
       "      <th>248</th>\n",
       "      <td>0</td>\n",
       "      <td>0</td>\n",
       "      <td>0</td>\n",
       "      <td>0</td>\n",
       "      <td>1</td>\n",
       "    </tr>\n",
       "    <tr>\n",
       "      <th>249</th>\n",
       "      <td>0</td>\n",
       "      <td>0</td>\n",
       "      <td>0</td>\n",
       "      <td>0</td>\n",
       "      <td>1</td>\n",
       "    </tr>\n",
       "    <tr>\n",
       "      <th>250</th>\n",
       "      <td>0</td>\n",
       "      <td>0</td>\n",
       "      <td>1</td>\n",
       "      <td>1</td>\n",
       "      <td>0</td>\n",
       "    </tr>\n",
       "  </tbody>\n",
       "</table>\n",
       "<p>234 rows × 5 columns</p>\n",
       "</div>"
      ],
      "text/plain": [
       "     대학생  대학원생  교직원  교수   일반인\n",
       "0      1     1    1    1    0\n",
       "1      1     1    1    1    0\n",
       "2      0     0    1    1    1\n",
       "3      0     0    1    1    1\n",
       "4      1     1    1    1    0\n",
       "..   ...   ...  ...  ...  ...\n",
       "246    1     1    1    1    1\n",
       "247    1     1    1    1    1\n",
       "248    0     0    0    0    1\n",
       "249    0     0    0    0    1\n",
       "250    0     0    1    1    0\n",
       "\n",
       "[234 rows x 5 columns]"
      ]
     },
     "execution_count": 337,
     "metadata": {},
     "output_type": "execute_result"
    }
   ],
   "source": [
    "ee.iloc[:,6:11]"
   ]
  },
  {
   "cell_type": "code",
   "execution_count": 338,
   "metadata": {},
   "outputs": [],
   "source": [
    "kolok = ee.iloc[:,6:11].reset_index()"
   ]
  },
  {
   "cell_type": "code",
   "execution_count": 339,
   "metadata": {},
   "outputs": [],
   "source": [
    "df_training2 = pd.concat([df_training,kolok],axis=1)"
   ]
  },
  {
   "cell_type": "code",
   "execution_count": 333,
   "metadata": {},
   "outputs": [
    {
     "data": {
      "text/html": [
       "<div>\n",
       "<style scoped>\n",
       "    .dataframe tbody tr th:only-of-type {\n",
       "        vertical-align: middle;\n",
       "    }\n",
       "\n",
       "    .dataframe tbody tr th {\n",
       "        vertical-align: top;\n",
       "    }\n",
       "\n",
       "    .dataframe thead th {\n",
       "        text-align: right;\n",
       "    }\n",
       "</style>\n",
       "<table border=\"1\" class=\"dataframe\">\n",
       "  <thead>\n",
       "    <tr style=\"text-align: right;\">\n",
       "      <th></th>\n",
       "      <th>0</th>\n",
       "      <th>1</th>\n",
       "      <th>대학원생</th>\n",
       "      <th>교직원</th>\n",
       "      <th>교수</th>\n",
       "      <th>일반인</th>\n",
       "      <th>합계</th>\n",
       "    </tr>\n",
       "  </thead>\n",
       "  <tbody>\n",
       "    <tr>\n",
       "      <th>0</th>\n",
       "      <td>전자 발명일지 사용자 매뉴얼</td>\n",
       "      <td>우리 학교 전자 발명일지 연구노트 시스템 사용을 위한 사용자 매뉴얼을 공지합니다 첨...</td>\n",
       "      <td>1</td>\n",
       "      <td>1</td>\n",
       "      <td>1</td>\n",
       "      <td>0</td>\n",
       "      <td>4</td>\n",
       "    </tr>\n",
       "    <tr>\n",
       "      <th>1</th>\n",
       "      <td>농림 수산 식품 연구개발사업 성과 언론 보도 준수 사항 안내</td>\n",
       "      <td>농림 수산 식품 기술기획평가원에서는 국가연구개발사업의 관리 등에 관한 규정 활용 촉...</td>\n",
       "      <td>1</td>\n",
       "      <td>1</td>\n",
       "      <td>1</td>\n",
       "      <td>0</td>\n",
       "      <td>4</td>\n",
       "    </tr>\n",
       "    <tr>\n",
       "      <th>2</th>\n",
       "      <td>한국산학연협회 산학연 협력 사업 평가 위원 후보 등록 안내</td>\n",
       "      <td>산학연 협력 사업 평가 위원 후보 등록 안내 산학연 협력 기술 개발사업의 각종 평가...</td>\n",
       "      <td>0</td>\n",
       "      <td>1</td>\n",
       "      <td>1</td>\n",
       "      <td>1</td>\n",
       "      <td>3</td>\n",
       "    </tr>\n",
       "    <tr>\n",
       "      <th>3</th>\n",
       "      <td>한국산학연협회 산학연 협력 사업 평가 위원 후보 등록 안내</td>\n",
       "      <td>산학연 협력 사업 평가 위원 후보 등록 안내 산학연 협력 기술 개발사업의 각종 평가...</td>\n",
       "      <td>0</td>\n",
       "      <td>1</td>\n",
       "      <td>1</td>\n",
       "      <td>1</td>\n",
       "      <td>3</td>\n",
       "    </tr>\n",
       "    <tr>\n",
       "      <th>4</th>\n",
       "      <td>국가연구개발사업 학생 인건비 풀링제 적용과 제사업 목록</td>\n",
       "      <td>국가연구개발사업의 인건비 풀링 제 적용 대상 과제 사업 리스트입니다</td>\n",
       "      <td>1</td>\n",
       "      <td>1</td>\n",
       "      <td>1</td>\n",
       "      <td>0</td>\n",
       "      <td>4</td>\n",
       "    </tr>\n",
       "    <tr>\n",
       "      <th>...</th>\n",
       "      <td>...</td>\n",
       "      <td>...</td>\n",
       "      <td>...</td>\n",
       "      <td>...</td>\n",
       "      <td>...</td>\n",
       "      <td>...</td>\n",
       "      <td>...</td>\n",
       "    </tr>\n",
       "    <tr>\n",
       "      <th>229</th>\n",
       "      <td>학생 인건비 통합기관 학생 인건비 지급 비율 및 부당 회수 비율 알림</td>\n",
       "      <td>학생 인건비 통합 관리기관인 경상 국립대학교 산학협력단의 학생 인건비 지급 비율 및...</td>\n",
       "      <td>1</td>\n",
       "      <td>1</td>\n",
       "      <td>1</td>\n",
       "      <td>1</td>\n",
       "      <td>5</td>\n",
       "    </tr>\n",
       "    <tr>\n",
       "      <th>230</th>\n",
       "      <td>경상 국립대학교 산학협력단 학생연구자 지원 규정 제정 알림</td>\n",
       "      <td>국가연구개발사업에 관한 범부처 공통규정으로 국가연구개발 혁신법이 제정되어 시행되었으...</td>\n",
       "      <td>1</td>\n",
       "      <td>1</td>\n",
       "      <td>1</td>\n",
       "      <td>1</td>\n",
       "      <td>5</td>\n",
       "    </tr>\n",
       "    <tr>\n",
       "      <th>231</th>\n",
       "      <td>기술 동향 조사 및 특허 맵 작성 수행기관 모집공고</td>\n",
       "      <td>기술 동향 조사 및 특허 맵 작성 수행기관 모집 공고 경상 국립대학교 산학협력단에서...</td>\n",
       "      <td>0</td>\n",
       "      <td>0</td>\n",
       "      <td>0</td>\n",
       "      <td>1</td>\n",
       "      <td>1</td>\n",
       "    </tr>\n",
       "    <tr>\n",
       "      <th>232</th>\n",
       "      <td>스마트 공장 사이니지 도입 확산 실증연구 실증 기업 모집</td>\n",
       "      <td>스마트 공장 사이니지 도입 확산 실증연구 실증 기업 모집 공고 중소 뿌리기업 제조 ...</td>\n",
       "      <td>0</td>\n",
       "      <td>0</td>\n",
       "      <td>0</td>\n",
       "      <td>1</td>\n",
       "      <td>1</td>\n",
       "    </tr>\n",
       "    <tr>\n",
       "      <th>233</th>\n",
       "      <td>단체교섭 요구 사실의 공고</td>\n",
       "      <td>공고 교섭요구 사실의 공고 전국 대학노동조합으로부터 교섭 요구가 있어 그 사실을 아...</td>\n",
       "      <td>0</td>\n",
       "      <td>1</td>\n",
       "      <td>1</td>\n",
       "      <td>0</td>\n",
       "      <td>2</td>\n",
       "    </tr>\n",
       "  </tbody>\n",
       "</table>\n",
       "<p>234 rows × 7 columns</p>\n",
       "</div>"
      ],
      "text/plain": [
       "                                          0  \\\n",
       "0                           전자 발명일지 사용자 매뉴얼   \n",
       "1         농림 수산 식품 연구개발사업 성과 언론 보도 준수 사항 안내   \n",
       "2          한국산학연협회 산학연 협력 사업 평가 위원 후보 등록 안내   \n",
       "3          한국산학연협회 산학연 협력 사업 평가 위원 후보 등록 안내   \n",
       "4            국가연구개발사업 학생 인건비 풀링제 적용과 제사업 목록   \n",
       "..                                      ...   \n",
       "229  학생 인건비 통합기관 학생 인건비 지급 비율 및 부당 회수 비율 알림   \n",
       "230        경상 국립대학교 산학협력단 학생연구자 지원 규정 제정 알림   \n",
       "231            기술 동향 조사 및 특허 맵 작성 수행기관 모집공고   \n",
       "232         스마트 공장 사이니지 도입 확산 실증연구 실증 기업 모집   \n",
       "233                          단체교섭 요구 사실의 공고   \n",
       "\n",
       "                                                     1  대학원생  교직원  교수   일반인  \\\n",
       "0    우리 학교 전자 발명일지 연구노트 시스템 사용을 위한 사용자 매뉴얼을 공지합니다 첨...     1    1    1    0   \n",
       "1    농림 수산 식품 기술기획평가원에서는 국가연구개발사업의 관리 등에 관한 규정 활용 촉...     1    1    1    0   \n",
       "2    산학연 협력 사업 평가 위원 후보 등록 안내 산학연 협력 기술 개발사업의 각종 평가...     0    1    1    1   \n",
       "3    산학연 협력 사업 평가 위원 후보 등록 안내 산학연 협력 기술 개발사업의 각종 평가...     0    1    1    1   \n",
       "4                국가연구개발사업의 인건비 풀링 제 적용 대상 과제 사업 리스트입니다     1    1    1    0   \n",
       "..                                                 ...   ...  ...  ...  ...   \n",
       "229  학생 인건비 통합 관리기관인 경상 국립대학교 산학협력단의 학생 인건비 지급 비율 및...     1    1    1    1   \n",
       "230  국가연구개발사업에 관한 범부처 공통규정으로 국가연구개발 혁신법이 제정되어 시행되었으...     1    1    1    1   \n",
       "231  기술 동향 조사 및 특허 맵 작성 수행기관 모집 공고 경상 국립대학교 산학협력단에서...     0    0    0    1   \n",
       "232  스마트 공장 사이니지 도입 확산 실증연구 실증 기업 모집 공고 중소 뿌리기업 제조 ...     0    0    0    1   \n",
       "233  공고 교섭요구 사실의 공고 전국 대학노동조합으로부터 교섭 요구가 있어 그 사실을 아...     0    1    1    0   \n",
       "\n",
       "     합계   \n",
       "0      4  \n",
       "1      4  \n",
       "2      3  \n",
       "3      3  \n",
       "4      4  \n",
       "..   ...  \n",
       "229    5  \n",
       "230    5  \n",
       "231    1  \n",
       "232    1  \n",
       "233    2  \n",
       "\n",
       "[234 rows x 7 columns]"
      ]
     },
     "execution_count": 333,
     "metadata": {},
     "output_type": "execute_result"
    }
   ],
   "source": [
    "df_training2.drop('index',axis=1)"
   ]
  },
  {
   "cell_type": "code",
   "execution_count": 340,
   "metadata": {},
   "outputs": [],
   "source": [
    "df_training2.to_excel('sanhak_training.xlsx')"
   ]
  },
  {
   "cell_type": "code",
   "execution_count": 36,
   "metadata": {},
   "outputs": [],
   "source": [
    "a = pd.read_excel('gigawan_validation_kk.xlsx',index_col=0)\n",
    "b = pd.read_excel('haksa_validation_kk.xlsx',index_col=0)\n",
    "c = pd.read_excel('chaeyong_validation_kk.xlsx',index_col=0)\n",
    "d = pd.read_excel('janghak_validation_kk.xlsx',index_col=0)\n",
    "e = pd.read_excel('sanhak_training.xlsx',index_col=0)"
   ]
  },
  {
   "cell_type": "code",
   "execution_count": 37,
   "metadata": {},
   "outputs": [],
   "source": [
    "test = pd.concat([a,b,c,d])"
   ]
  },
  {
   "cell_type": "code",
   "execution_count": 38,
   "metadata": {},
   "outputs": [],
   "source": [
    "test_df = test[(test[1].isna()==False)]\n",
    "test_df = test_df[(test_df[0].isna()==False)]"
   ]
  },
  {
   "cell_type": "code",
   "execution_count": 39,
   "metadata": {},
   "outputs": [],
   "source": [
    "test_df.iloc[:,:-1].to_excel('validation_dt.xlsx')"
   ]
  },
  {
   "cell_type": "code",
   "execution_count": 358,
   "metadata": {},
   "outputs": [
    {
     "data": {
      "text/html": [
       "<div>\n",
       "<style scoped>\n",
       "    .dataframe tbody tr th:only-of-type {\n",
       "        vertical-align: middle;\n",
       "    }\n",
       "\n",
       "    .dataframe tbody tr th {\n",
       "        vertical-align: top;\n",
       "    }\n",
       "\n",
       "    .dataframe thead th {\n",
       "        text-align: right;\n",
       "    }\n",
       "</style>\n",
       "<table border=\"1\" class=\"dataframe\">\n",
       "  <thead>\n",
       "    <tr style=\"text-align: right;\">\n",
       "      <th></th>\n",
       "      <th>0</th>\n",
       "      <th>1</th>\n",
       "      <th>대학생</th>\n",
       "      <th>대학원생</th>\n",
       "      <th>교직원</th>\n",
       "      <th>교수</th>\n",
       "      <th>일반인</th>\n",
       "    </tr>\n",
       "  </thead>\n",
       "  <tbody>\n",
       "    <tr>\n",
       "      <th>0</th>\n",
       "      <td>단체협약 체결을 위한 교섭요구 노동조합의 확정 공고</td>\n",
       "      <td>교섭요구 노동조합의 확정 공고 노동조합 및 노동관계조정법 시행령 규정에 따라 교섭요...</td>\n",
       "      <td>0.0</td>\n",
       "      <td>0.0</td>\n",
       "      <td>1.0</td>\n",
       "      <td>1.0</td>\n",
       "      <td>0.0</td>\n",
       "    </tr>\n",
       "    <tr>\n",
       "      <th>1</th>\n",
       "      <td>경상대 변경 통학 노선버스 운행시간</td>\n",
       "      <td>통학 노선버스 관련 운행시간 변동 사항 안내 자로 운행하는 통학 노선버스는 기존 운...</td>\n",
       "      <td>1.0</td>\n",
       "      <td>1.0</td>\n",
       "      <td>1.0</td>\n",
       "      <td>0.0</td>\n",
       "      <td>0.0</td>\n",
       "    </tr>\n",
       "    <tr>\n",
       "      <th>2</th>\n",
       "      <td>경상대 상반기 퇴직 공무원 정부포상 추천 후보자 공개검증</td>\n",
       "      <td>상반기 퇴직 공무원 포상 추천 후보자에 대해 아래와 같이 공개검증을 실시하오니 의견...</td>\n",
       "      <td>1.0</td>\n",
       "      <td>1.0</td>\n",
       "      <td>1.0</td>\n",
       "      <td>1.0</td>\n",
       "      <td>1.0</td>\n",
       "    </tr>\n",
       "    <tr>\n",
       "      <th>3</th>\n",
       "      <td>사회적 창업 아이디어 경진대회 참가자 모집 공고</td>\n",
       "      <td>지자체 대학 협력 기반 지역 혁신사업 경남지역 혁신 플랫폼 스마트 공동체 사업단 사...</td>\n",
       "      <td>1.0</td>\n",
       "      <td>1.0</td>\n",
       "      <td>0.0</td>\n",
       "      <td>0.0</td>\n",
       "      <td>0.0</td>\n",
       "    </tr>\n",
       "    <tr>\n",
       "      <th>4</th>\n",
       "      <td>재학생 등록금 납부 안내</td>\n",
       "      <td>재학생 등록금 추가 수납 일정을 아래와 같이 알려드리니 해당 학생들께서는 등록기간 ...</td>\n",
       "      <td>1.0</td>\n",
       "      <td>1.0</td>\n",
       "      <td>0.0</td>\n",
       "      <td>0.0</td>\n",
       "      <td>0.0</td>\n",
       "    </tr>\n",
       "    <tr>\n",
       "      <th>...</th>\n",
       "      <td>...</td>\n",
       "      <td>...</td>\n",
       "      <td>...</td>\n",
       "      <td>...</td>\n",
       "      <td>...</td>\n",
       "      <td>...</td>\n",
       "      <td>...</td>\n",
       "    </tr>\n",
       "    <tr>\n",
       "      <th>229</th>\n",
       "      <td>학생 인건비 통합기관 학생 인건비 지급 비율 및 부당 회수 비율 알림</td>\n",
       "      <td>학생 인건비 통합 관리기관인 경상 국립대학교 산학협력단의 학생 인건비 지급 비율 및...</td>\n",
       "      <td>1.0</td>\n",
       "      <td>1.0</td>\n",
       "      <td>1.0</td>\n",
       "      <td>1.0</td>\n",
       "      <td>1.0</td>\n",
       "    </tr>\n",
       "    <tr>\n",
       "      <th>230</th>\n",
       "      <td>경상 국립대학교 산학협력단 학생연구자 지원 규정 제정 알림</td>\n",
       "      <td>국가연구개발사업에 관한 범부처 공통규정으로 국가연구개발 혁신법이 제정되어 시행되었으...</td>\n",
       "      <td>1.0</td>\n",
       "      <td>1.0</td>\n",
       "      <td>1.0</td>\n",
       "      <td>1.0</td>\n",
       "      <td>1.0</td>\n",
       "    </tr>\n",
       "    <tr>\n",
       "      <th>231</th>\n",
       "      <td>기술 동향 조사 및 특허 맵 작성 수행기관 모집공고</td>\n",
       "      <td>기술 동향 조사 및 특허 맵 작성 수행기관 모집 공고 경상 국립대학교 산학협력단에서...</td>\n",
       "      <td>0.0</td>\n",
       "      <td>0.0</td>\n",
       "      <td>0.0</td>\n",
       "      <td>0.0</td>\n",
       "      <td>1.0</td>\n",
       "    </tr>\n",
       "    <tr>\n",
       "      <th>232</th>\n",
       "      <td>스마트 공장 사이니지 도입 확산 실증연구 실증 기업 모집</td>\n",
       "      <td>스마트 공장 사이니지 도입 확산 실증연구 실증 기업 모집 공고 중소 뿌리기업 제조 ...</td>\n",
       "      <td>0.0</td>\n",
       "      <td>0.0</td>\n",
       "      <td>0.0</td>\n",
       "      <td>0.0</td>\n",
       "      <td>1.0</td>\n",
       "    </tr>\n",
       "    <tr>\n",
       "      <th>233</th>\n",
       "      <td>단체교섭 요구 사실의 공고</td>\n",
       "      <td>공고 교섭요구 사실의 공고 전국 대학노동조합으로부터 교섭 요구가 있어 그 사실을 아...</td>\n",
       "      <td>0.0</td>\n",
       "      <td>0.0</td>\n",
       "      <td>1.0</td>\n",
       "      <td>1.0</td>\n",
       "      <td>0.0</td>\n",
       "    </tr>\n",
       "  </tbody>\n",
       "</table>\n",
       "<p>1134 rows × 7 columns</p>\n",
       "</div>"
      ],
      "text/plain": [
       "                                          0  \\\n",
       "0              단체협약 체결을 위한 교섭요구 노동조합의 확정 공고   \n",
       "1                       경상대 변경 통학 노선버스 운행시간   \n",
       "2           경상대 상반기 퇴직 공무원 정부포상 추천 후보자 공개검증   \n",
       "3                사회적 창업 아이디어 경진대회 참가자 모집 공고   \n",
       "4                             재학생 등록금 납부 안내   \n",
       "..                                      ...   \n",
       "229  학생 인건비 통합기관 학생 인건비 지급 비율 및 부당 회수 비율 알림   \n",
       "230        경상 국립대학교 산학협력단 학생연구자 지원 규정 제정 알림   \n",
       "231            기술 동향 조사 및 특허 맵 작성 수행기관 모집공고   \n",
       "232         스마트 공장 사이니지 도입 확산 실증연구 실증 기업 모집   \n",
       "233                          단체교섭 요구 사실의 공고   \n",
       "\n",
       "                                                     1  대학생  대학원생  교직원   교수  \\\n",
       "0    교섭요구 노동조합의 확정 공고 노동조합 및 노동관계조정법 시행령 규정에 따라 교섭요...  0.0   0.0  1.0  1.0   \n",
       "1    통학 노선버스 관련 운행시간 변동 사항 안내 자로 운행하는 통학 노선버스는 기존 운...  1.0   1.0  1.0  0.0   \n",
       "2    상반기 퇴직 공무원 포상 추천 후보자에 대해 아래와 같이 공개검증을 실시하오니 의견...  1.0   1.0  1.0  1.0   \n",
       "3    지자체 대학 협력 기반 지역 혁신사업 경남지역 혁신 플랫폼 스마트 공동체 사업단 사...  1.0   1.0  0.0  0.0   \n",
       "4    재학생 등록금 추가 수납 일정을 아래와 같이 알려드리니 해당 학생들께서는 등록기간 ...  1.0   1.0  0.0  0.0   \n",
       "..                                                 ...  ...   ...  ...  ...   \n",
       "229  학생 인건비 통합 관리기관인 경상 국립대학교 산학협력단의 학생 인건비 지급 비율 및...  1.0   1.0  1.0  1.0   \n",
       "230  국가연구개발사업에 관한 범부처 공통규정으로 국가연구개발 혁신법이 제정되어 시행되었으...  1.0   1.0  1.0  1.0   \n",
       "231  기술 동향 조사 및 특허 맵 작성 수행기관 모집 공고 경상 국립대학교 산학협력단에서...  0.0   0.0  0.0  0.0   \n",
       "232  스마트 공장 사이니지 도입 확산 실증연구 실증 기업 모집 공고 중소 뿌리기업 제조 ...  0.0   0.0  0.0  0.0   \n",
       "233  공고 교섭요구 사실의 공고 전국 대학노동조합으로부터 교섭 요구가 있어 그 사실을 아...  0.0   0.0  1.0  1.0   \n",
       "\n",
       "     일반인  \n",
       "0    0.0  \n",
       "1    0.0  \n",
       "2    1.0  \n",
       "3    0.0  \n",
       "4    0.0  \n",
       "..   ...  \n",
       "229  1.0  \n",
       "230  1.0  \n",
       "231  1.0  \n",
       "232  1.0  \n",
       "233  0.0  \n",
       "\n",
       "[1134 rows x 7 columns]"
      ]
     },
     "execution_count": 358,
     "metadata": {},
     "output_type": "execute_result"
    }
   ],
   "source": [
    "### 총 900개\n",
    "test_df"
   ]
  },
  {
   "cell_type": "markdown",
   "metadata": {},
   "source": [
    "### 확인"
   ]
  },
  {
   "cell_type": "code",
   "execution_count": 11,
   "metadata": {},
   "outputs": [],
   "source": [
    "import pandas as pd\n",
    "from tqdm.notebook import tqdm"
   ]
  },
  {
   "cell_type": "code",
   "execution_count": 3,
   "metadata": {},
   "outputs": [],
   "source": [
    "words_df = pd.read_excel('count_words_220105.xlsx',index_col=0)"
   ]
  },
  {
   "cell_type": "code",
   "execution_count": 4,
   "metadata": {},
   "outputs": [
    {
     "data": {
      "text/html": [
       "<div>\n",
       "<style scoped>\n",
       "    .dataframe tbody tr th:only-of-type {\n",
       "        vertical-align: middle;\n",
       "    }\n",
       "\n",
       "    .dataframe tbody tr th {\n",
       "        vertical-align: top;\n",
       "    }\n",
       "\n",
       "    .dataframe thead th {\n",
       "        text-align: right;\n",
       "    }\n",
       "</style>\n",
       "<table border=\"1\" class=\"dataframe\">\n",
       "  <thead>\n",
       "    <tr style=\"text-align: right;\">\n",
       "      <th></th>\n",
       "      <th>0</th>\n",
       "      <th>1</th>\n",
       "      <th>2</th>\n",
       "      <th>3</th>\n",
       "      <th>4</th>\n",
       "      <th>5</th>\n",
       "      <th>6</th>\n",
       "      <th>7</th>\n",
       "      <th>8</th>\n",
       "      <th>9</th>\n",
       "      <th>...</th>\n",
       "      <th>517</th>\n",
       "      <th>518</th>\n",
       "      <th>519</th>\n",
       "      <th>520</th>\n",
       "      <th>521</th>\n",
       "      <th>522</th>\n",
       "      <th>523</th>\n",
       "      <th>524</th>\n",
       "      <th>525</th>\n",
       "      <th>526</th>\n",
       "    </tr>\n",
       "  </thead>\n",
       "  <tbody>\n",
       "    <tr>\n",
       "      <th>0</th>\n",
       "      <td>교섭</td>\n",
       "      <td>요구</td>\n",
       "      <td>노동조합</td>\n",
       "      <td>확정</td>\n",
       "      <td>공고</td>\n",
       "      <td>노동</td>\n",
       "      <td>조합</td>\n",
       "      <td>노동</td>\n",
       "      <td>관계</td>\n",
       "      <td>조정법</td>\n",
       "      <td>...</td>\n",
       "      <td>NaN</td>\n",
       "      <td>NaN</td>\n",
       "      <td>NaN</td>\n",
       "      <td>NaN</td>\n",
       "      <td>NaN</td>\n",
       "      <td>NaN</td>\n",
       "      <td>NaN</td>\n",
       "      <td>NaN</td>\n",
       "      <td>NaN</td>\n",
       "      <td>NaN</td>\n",
       "    </tr>\n",
       "    <tr>\n",
       "      <th>1</th>\n",
       "      <td>통학</td>\n",
       "      <td>노선버스</td>\n",
       "      <td>관련</td>\n",
       "      <td>운행</td>\n",
       "      <td>시간</td>\n",
       "      <td>변동</td>\n",
       "      <td>사항</td>\n",
       "      <td>안내</td>\n",
       "      <td>운행</td>\n",
       "      <td>통학</td>\n",
       "      <td>...</td>\n",
       "      <td>NaN</td>\n",
       "      <td>NaN</td>\n",
       "      <td>NaN</td>\n",
       "      <td>NaN</td>\n",
       "      <td>NaN</td>\n",
       "      <td>NaN</td>\n",
       "      <td>NaN</td>\n",
       "      <td>NaN</td>\n",
       "      <td>NaN</td>\n",
       "      <td>NaN</td>\n",
       "    </tr>\n",
       "    <tr>\n",
       "      <th>2</th>\n",
       "      <td>상반기</td>\n",
       "      <td>퇴직</td>\n",
       "      <td>공무원</td>\n",
       "      <td>포상</td>\n",
       "      <td>추천</td>\n",
       "      <td>후보자</td>\n",
       "      <td>대하다</td>\n",
       "      <td>아래</td>\n",
       "      <td>공개</td>\n",
       "      <td>검증</td>\n",
       "      <td>...</td>\n",
       "      <td>NaN</td>\n",
       "      <td>NaN</td>\n",
       "      <td>NaN</td>\n",
       "      <td>NaN</td>\n",
       "      <td>NaN</td>\n",
       "      <td>NaN</td>\n",
       "      <td>NaN</td>\n",
       "      <td>NaN</td>\n",
       "      <td>NaN</td>\n",
       "      <td>NaN</td>\n",
       "    </tr>\n",
       "    <tr>\n",
       "      <th>3</th>\n",
       "      <td>지자체</td>\n",
       "      <td>대학</td>\n",
       "      <td>협력</td>\n",
       "      <td>기반</td>\n",
       "      <td>지역</td>\n",
       "      <td>혁신</td>\n",
       "      <td>사업</td>\n",
       "      <td>경남지</td>\n",
       "      <td>혁신</td>\n",
       "      <td>플랫폼</td>\n",
       "      <td>...</td>\n",
       "      <td>NaN</td>\n",
       "      <td>NaN</td>\n",
       "      <td>NaN</td>\n",
       "      <td>NaN</td>\n",
       "      <td>NaN</td>\n",
       "      <td>NaN</td>\n",
       "      <td>NaN</td>\n",
       "      <td>NaN</td>\n",
       "      <td>NaN</td>\n",
       "      <td>NaN</td>\n",
       "    </tr>\n",
       "    <tr>\n",
       "      <th>4</th>\n",
       "      <td>재학</td>\n",
       "      <td>등록금</td>\n",
       "      <td>추가</td>\n",
       "      <td>수납</td>\n",
       "      <td>일정</td>\n",
       "      <td>아래</td>\n",
       "      <td>알리다</td>\n",
       "      <td>드리다</td>\n",
       "      <td>해당</td>\n",
       "      <td>학생</td>\n",
       "      <td>...</td>\n",
       "      <td>NaN</td>\n",
       "      <td>NaN</td>\n",
       "      <td>NaN</td>\n",
       "      <td>NaN</td>\n",
       "      <td>NaN</td>\n",
       "      <td>NaN</td>\n",
       "      <td>NaN</td>\n",
       "      <td>NaN</td>\n",
       "      <td>NaN</td>\n",
       "      <td>NaN</td>\n",
       "    </tr>\n",
       "    <tr>\n",
       "      <th>...</th>\n",
       "      <td>...</td>\n",
       "      <td>...</td>\n",
       "      <td>...</td>\n",
       "      <td>...</td>\n",
       "      <td>...</td>\n",
       "      <td>...</td>\n",
       "      <td>...</td>\n",
       "      <td>...</td>\n",
       "      <td>...</td>\n",
       "      <td>...</td>\n",
       "      <td>...</td>\n",
       "      <td>...</td>\n",
       "      <td>...</td>\n",
       "      <td>...</td>\n",
       "      <td>...</td>\n",
       "      <td>...</td>\n",
       "      <td>...</td>\n",
       "      <td>...</td>\n",
       "      <td>...</td>\n",
       "      <td>...</td>\n",
       "      <td>...</td>\n",
       "    </tr>\n",
       "    <tr>\n",
       "      <th>1129</th>\n",
       "      <td>학생</td>\n",
       "      <td>인건비</td>\n",
       "      <td>통합</td>\n",
       "      <td>관리기관</td>\n",
       "      <td>국립대학</td>\n",
       "      <td>산학</td>\n",
       "      <td>협력단</td>\n",
       "      <td>학생</td>\n",
       "      <td>인건비</td>\n",
       "      <td>지급</td>\n",
       "      <td>...</td>\n",
       "      <td>NaN</td>\n",
       "      <td>NaN</td>\n",
       "      <td>NaN</td>\n",
       "      <td>NaN</td>\n",
       "      <td>NaN</td>\n",
       "      <td>NaN</td>\n",
       "      <td>NaN</td>\n",
       "      <td>NaN</td>\n",
       "      <td>NaN</td>\n",
       "      <td>NaN</td>\n",
       "    </tr>\n",
       "    <tr>\n",
       "      <th>1130</th>\n",
       "      <td>국가</td>\n",
       "      <td>연구</td>\n",
       "      <td>개발사업</td>\n",
       "      <td>관하다</td>\n",
       "      <td>범부처</td>\n",
       "      <td>공통</td>\n",
       "      <td>규정</td>\n",
       "      <td>국가</td>\n",
       "      <td>연구</td>\n",
       "      <td>개발</td>\n",
       "      <td>...</td>\n",
       "      <td>NaN</td>\n",
       "      <td>NaN</td>\n",
       "      <td>NaN</td>\n",
       "      <td>NaN</td>\n",
       "      <td>NaN</td>\n",
       "      <td>NaN</td>\n",
       "      <td>NaN</td>\n",
       "      <td>NaN</td>\n",
       "      <td>NaN</td>\n",
       "      <td>NaN</td>\n",
       "    </tr>\n",
       "    <tr>\n",
       "      <th>1131</th>\n",
       "      <td>기술</td>\n",
       "      <td>동향</td>\n",
       "      <td>조사</td>\n",
       "      <td>특허</td>\n",
       "      <td>작성</td>\n",
       "      <td>수행</td>\n",
       "      <td>기관</td>\n",
       "      <td>모집</td>\n",
       "      <td>공고</td>\n",
       "      <td>경상</td>\n",
       "      <td>...</td>\n",
       "      <td>NaN</td>\n",
       "      <td>NaN</td>\n",
       "      <td>NaN</td>\n",
       "      <td>NaN</td>\n",
       "      <td>NaN</td>\n",
       "      <td>NaN</td>\n",
       "      <td>NaN</td>\n",
       "      <td>NaN</td>\n",
       "      <td>NaN</td>\n",
       "      <td>NaN</td>\n",
       "    </tr>\n",
       "    <tr>\n",
       "      <th>1132</th>\n",
       "      <td>스마트</td>\n",
       "      <td>공장</td>\n",
       "      <td>사이니</td>\n",
       "      <td>도입</td>\n",
       "      <td>확산</td>\n",
       "      <td>실증</td>\n",
       "      <td>연구</td>\n",
       "      <td>실증</td>\n",
       "      <td>기업</td>\n",
       "      <td>모집</td>\n",
       "      <td>...</td>\n",
       "      <td>NaN</td>\n",
       "      <td>NaN</td>\n",
       "      <td>NaN</td>\n",
       "      <td>NaN</td>\n",
       "      <td>NaN</td>\n",
       "      <td>NaN</td>\n",
       "      <td>NaN</td>\n",
       "      <td>NaN</td>\n",
       "      <td>NaN</td>\n",
       "      <td>NaN</td>\n",
       "    </tr>\n",
       "    <tr>\n",
       "      <th>1133</th>\n",
       "      <td>공고</td>\n",
       "      <td>교섭</td>\n",
       "      <td>요구</td>\n",
       "      <td>사실</td>\n",
       "      <td>공고</td>\n",
       "      <td>전국</td>\n",
       "      <td>대학</td>\n",
       "      <td>노동</td>\n",
       "      <td>조합</td>\n",
       "      <td>교섭</td>\n",
       "      <td>...</td>\n",
       "      <td>NaN</td>\n",
       "      <td>NaN</td>\n",
       "      <td>NaN</td>\n",
       "      <td>NaN</td>\n",
       "      <td>NaN</td>\n",
       "      <td>NaN</td>\n",
       "      <td>NaN</td>\n",
       "      <td>NaN</td>\n",
       "      <td>NaN</td>\n",
       "      <td>NaN</td>\n",
       "    </tr>\n",
       "  </tbody>\n",
       "</table>\n",
       "<p>1134 rows × 527 columns</p>\n",
       "</div>"
      ],
      "text/plain": [
       "      0     1     2     3     4    5    6    7    8    9    ...  517  518  \\\n",
       "0      교섭    요구  노동조합    확정    공고   노동   조합   노동   관계  조정법  ...  NaN  NaN   \n",
       "1      통학  노선버스    관련    운행    시간   변동   사항   안내   운행   통학  ...  NaN  NaN   \n",
       "2     상반기    퇴직   공무원    포상    추천  후보자  대하다   아래   공개   검증  ...  NaN  NaN   \n",
       "3     지자체    대학    협력    기반    지역   혁신   사업  경남지   혁신  플랫폼  ...  NaN  NaN   \n",
       "4      재학   등록금    추가    수납    일정   아래  알리다  드리다   해당   학생  ...  NaN  NaN   \n",
       "...   ...   ...   ...   ...   ...  ...  ...  ...  ...  ...  ...  ...  ...   \n",
       "1129   학생   인건비    통합  관리기관  국립대학   산학  협력단   학생  인건비   지급  ...  NaN  NaN   \n",
       "1130   국가    연구  개발사업   관하다   범부처   공통   규정   국가   연구   개발  ...  NaN  NaN   \n",
       "1131   기술    동향    조사    특허    작성   수행   기관   모집   공고   경상  ...  NaN  NaN   \n",
       "1132  스마트    공장   사이니    도입    확산   실증   연구   실증   기업   모집  ...  NaN  NaN   \n",
       "1133   공고    교섭    요구    사실    공고   전국   대학   노동   조합   교섭  ...  NaN  NaN   \n",
       "\n",
       "      519  520  521  522  523  524  525  526  \n",
       "0     NaN  NaN  NaN  NaN  NaN  NaN  NaN  NaN  \n",
       "1     NaN  NaN  NaN  NaN  NaN  NaN  NaN  NaN  \n",
       "2     NaN  NaN  NaN  NaN  NaN  NaN  NaN  NaN  \n",
       "3     NaN  NaN  NaN  NaN  NaN  NaN  NaN  NaN  \n",
       "4     NaN  NaN  NaN  NaN  NaN  NaN  NaN  NaN  \n",
       "...   ...  ...  ...  ...  ...  ...  ...  ...  \n",
       "1129  NaN  NaN  NaN  NaN  NaN  NaN  NaN  NaN  \n",
       "1130  NaN  NaN  NaN  NaN  NaN  NaN  NaN  NaN  \n",
       "1131  NaN  NaN  NaN  NaN  NaN  NaN  NaN  NaN  \n",
       "1132  NaN  NaN  NaN  NaN  NaN  NaN  NaN  NaN  \n",
       "1133  NaN  NaN  NaN  NaN  NaN  NaN  NaN  NaN  \n",
       "\n",
       "[1134 rows x 527 columns]"
      ]
     },
     "execution_count": 4,
     "metadata": {},
     "output_type": "execute_result"
    }
   ],
   "source": [
    "words_df"
   ]
  },
  {
   "cell_type": "code",
   "execution_count": 5,
   "metadata": {},
   "outputs": [],
   "source": [
    "test_df = pd.read_excel('sum_train_perfect.xlsx',index_col=0)"
   ]
  },
  {
   "cell_type": "code",
   "execution_count": 6,
   "metadata": {},
   "outputs": [
    {
     "data": {
      "text/html": [
       "<div>\n",
       "<style scoped>\n",
       "    .dataframe tbody tr th:only-of-type {\n",
       "        vertical-align: middle;\n",
       "    }\n",
       "\n",
       "    .dataframe tbody tr th {\n",
       "        vertical-align: top;\n",
       "    }\n",
       "\n",
       "    .dataframe thead th {\n",
       "        text-align: right;\n",
       "    }\n",
       "</style>\n",
       "<table border=\"1\" class=\"dataframe\">\n",
       "  <thead>\n",
       "    <tr style=\"text-align: right;\">\n",
       "      <th></th>\n",
       "      <th>0</th>\n",
       "      <th>1</th>\n",
       "      <th>대학생</th>\n",
       "      <th>대학원생</th>\n",
       "      <th>교직원</th>\n",
       "      <th>교수</th>\n",
       "      <th>일반인</th>\n",
       "    </tr>\n",
       "  </thead>\n",
       "  <tbody>\n",
       "    <tr>\n",
       "      <th>0</th>\n",
       "      <td>단체협약 체결을 위한 교섭요구 노동조합의 확정 공고</td>\n",
       "      <td>교섭요구 노동조합의 확정 공고 노동조합 및 노동관계조정법 시행령 규정에 따라 교섭요...</td>\n",
       "      <td>0</td>\n",
       "      <td>0</td>\n",
       "      <td>1</td>\n",
       "      <td>1</td>\n",
       "      <td>0</td>\n",
       "    </tr>\n",
       "    <tr>\n",
       "      <th>1</th>\n",
       "      <td>경상대 변경 통학 노선버스 운행시간</td>\n",
       "      <td>통학 노선버스 관련 운행시간 변동 사항 안내 자로 운행하는 통학 노선버스는 기존 운...</td>\n",
       "      <td>1</td>\n",
       "      <td>1</td>\n",
       "      <td>1</td>\n",
       "      <td>0</td>\n",
       "      <td>0</td>\n",
       "    </tr>\n",
       "    <tr>\n",
       "      <th>2</th>\n",
       "      <td>경상대 상반기 퇴직 공무원 정부포상 추천 후보자 공개검증</td>\n",
       "      <td>상반기 퇴직 공무원 포상 추천 후보자에 대해 아래와 같이 공개검증을 실시하오니 의견...</td>\n",
       "      <td>1</td>\n",
       "      <td>1</td>\n",
       "      <td>1</td>\n",
       "      <td>1</td>\n",
       "      <td>1</td>\n",
       "    </tr>\n",
       "    <tr>\n",
       "      <th>3</th>\n",
       "      <td>사회적 창업 아이디어 경진대회 참가자 모집 공고</td>\n",
       "      <td>지자체 대학 협력 기반 지역 혁신사업 경남지역 혁신 플랫폼 스마트 공동체 사업단 사...</td>\n",
       "      <td>1</td>\n",
       "      <td>1</td>\n",
       "      <td>0</td>\n",
       "      <td>0</td>\n",
       "      <td>0</td>\n",
       "    </tr>\n",
       "    <tr>\n",
       "      <th>4</th>\n",
       "      <td>재학생 등록금 납부 안내</td>\n",
       "      <td>재학생 등록금 추가 수납 일정을 아래와 같이 알려드리니 해당 학생들께서는 등록기간 ...</td>\n",
       "      <td>1</td>\n",
       "      <td>1</td>\n",
       "      <td>0</td>\n",
       "      <td>0</td>\n",
       "      <td>0</td>\n",
       "    </tr>\n",
       "  </tbody>\n",
       "</table>\n",
       "</div>"
      ],
      "text/plain": [
       "                                 0  \\\n",
       "0     단체협약 체결을 위한 교섭요구 노동조합의 확정 공고   \n",
       "1              경상대 변경 통학 노선버스 운행시간   \n",
       "2  경상대 상반기 퇴직 공무원 정부포상 추천 후보자 공개검증   \n",
       "3       사회적 창업 아이디어 경진대회 참가자 모집 공고   \n",
       "4                    재학생 등록금 납부 안내   \n",
       "\n",
       "                                                   1  대학생  대학원생  교직원  교수  일반인  \n",
       "0  교섭요구 노동조합의 확정 공고 노동조합 및 노동관계조정법 시행령 규정에 따라 교섭요...    0     0    1   1    0  \n",
       "1  통학 노선버스 관련 운행시간 변동 사항 안내 자로 운행하는 통학 노선버스는 기존 운...    1     1    1   0    0  \n",
       "2  상반기 퇴직 공무원 포상 추천 후보자에 대해 아래와 같이 공개검증을 실시하오니 의견...    1     1    1   1    1  \n",
       "3  지자체 대학 협력 기반 지역 혁신사업 경남지역 혁신 플랫폼 스마트 공동체 사업단 사...    1     1    0   0    0  \n",
       "4  재학생 등록금 추가 수납 일정을 아래와 같이 알려드리니 해당 학생들께서는 등록기간 ...    1     1    0   0    0  "
      ]
     },
     "execution_count": 6,
     "metadata": {},
     "output_type": "execute_result"
    }
   ],
   "source": [
    "test_df.head()"
   ]
  },
  {
   "cell_type": "markdown",
   "metadata": {},
   "source": [
    "## Multi Label Check"
   ]
  },
  {
   "cell_type": "code",
   "execution_count": 7,
   "metadata": {},
   "outputs": [
    {
     "data": {
      "text/html": [
       "<div>\n",
       "<style scoped>\n",
       "    .dataframe tbody tr th:only-of-type {\n",
       "        vertical-align: middle;\n",
       "    }\n",
       "\n",
       "    .dataframe tbody tr th {\n",
       "        vertical-align: top;\n",
       "    }\n",
       "\n",
       "    .dataframe thead th {\n",
       "        text-align: right;\n",
       "    }\n",
       "</style>\n",
       "<table border=\"1\" class=\"dataframe\">\n",
       "  <thead>\n",
       "    <tr style=\"text-align: right;\">\n",
       "      <th></th>\n",
       "      <th>대학생</th>\n",
       "      <th>대학원생</th>\n",
       "      <th>교직원</th>\n",
       "      <th>교수</th>\n",
       "      <th>일반인</th>\n",
       "    </tr>\n",
       "  </thead>\n",
       "  <tbody>\n",
       "    <tr>\n",
       "      <th>0</th>\n",
       "      <td>0</td>\n",
       "      <td>0</td>\n",
       "      <td>1</td>\n",
       "      <td>1</td>\n",
       "      <td>0</td>\n",
       "    </tr>\n",
       "    <tr>\n",
       "      <th>1</th>\n",
       "      <td>1</td>\n",
       "      <td>1</td>\n",
       "      <td>1</td>\n",
       "      <td>0</td>\n",
       "      <td>0</td>\n",
       "    </tr>\n",
       "    <tr>\n",
       "      <th>2</th>\n",
       "      <td>1</td>\n",
       "      <td>1</td>\n",
       "      <td>1</td>\n",
       "      <td>1</td>\n",
       "      <td>1</td>\n",
       "    </tr>\n",
       "    <tr>\n",
       "      <th>3</th>\n",
       "      <td>1</td>\n",
       "      <td>1</td>\n",
       "      <td>0</td>\n",
       "      <td>0</td>\n",
       "      <td>0</td>\n",
       "    </tr>\n",
       "    <tr>\n",
       "      <th>4</th>\n",
       "      <td>1</td>\n",
       "      <td>1</td>\n",
       "      <td>0</td>\n",
       "      <td>0</td>\n",
       "      <td>0</td>\n",
       "    </tr>\n",
       "    <tr>\n",
       "      <th>...</th>\n",
       "      <td>...</td>\n",
       "      <td>...</td>\n",
       "      <td>...</td>\n",
       "      <td>...</td>\n",
       "      <td>...</td>\n",
       "    </tr>\n",
       "    <tr>\n",
       "      <th>229</th>\n",
       "      <td>1</td>\n",
       "      <td>1</td>\n",
       "      <td>1</td>\n",
       "      <td>1</td>\n",
       "      <td>1</td>\n",
       "    </tr>\n",
       "    <tr>\n",
       "      <th>230</th>\n",
       "      <td>1</td>\n",
       "      <td>1</td>\n",
       "      <td>1</td>\n",
       "      <td>1</td>\n",
       "      <td>1</td>\n",
       "    </tr>\n",
       "    <tr>\n",
       "      <th>231</th>\n",
       "      <td>0</td>\n",
       "      <td>0</td>\n",
       "      <td>0</td>\n",
       "      <td>0</td>\n",
       "      <td>1</td>\n",
       "    </tr>\n",
       "    <tr>\n",
       "      <th>232</th>\n",
       "      <td>0</td>\n",
       "      <td>0</td>\n",
       "      <td>0</td>\n",
       "      <td>0</td>\n",
       "      <td>1</td>\n",
       "    </tr>\n",
       "    <tr>\n",
       "      <th>233</th>\n",
       "      <td>0</td>\n",
       "      <td>0</td>\n",
       "      <td>1</td>\n",
       "      <td>1</td>\n",
       "      <td>0</td>\n",
       "    </tr>\n",
       "  </tbody>\n",
       "</table>\n",
       "<p>1134 rows × 5 columns</p>\n",
       "</div>"
      ],
      "text/plain": [
       "     대학생  대학원생  교직원  교수  일반인\n",
       "0      0     0    1   1    0\n",
       "1      1     1    1   0    0\n",
       "2      1     1    1   1    1\n",
       "3      1     1    0   0    0\n",
       "4      1     1    0   0    0\n",
       "..   ...   ...  ...  ..  ...\n",
       "229    1     1    1   1    1\n",
       "230    1     1    1   1    1\n",
       "231    0     0    0   0    1\n",
       "232    0     0    0   0    1\n",
       "233    0     0    1   1    0\n",
       "\n",
       "[1134 rows x 5 columns]"
      ]
     },
     "execution_count": 7,
     "metadata": {},
     "output_type": "execute_result"
    }
   ],
   "source": [
    "lala = test_df[['대학생','대학원생','교직원','교수','일반인']]\n",
    "lala"
   ]
  },
  {
   "cell_type": "code",
   "execution_count": 8,
   "metadata": {},
   "outputs": [],
   "source": [
    "from itertools import combinations"
   ]
  },
  {
   "cell_type": "code",
   "execution_count": 9,
   "metadata": {},
   "outputs": [
    {
     "name": "stdout",
     "output_type": "stream",
     "text": [
      "[('대학생',), ('대학원생',), ('교직원',), ('교수',), ('일반인',)]\n",
      "[('대학생', '대학원생'), ('대학생', '교직원'), ('대학생', '교수'), ('대학생', '일반인'), ('대학원생', '교직원'), ('대학원생', '교수'), ('대학원생', '일반인'), ('교직원', '교수'), ('교직원', '일반인'), ('교수', '일반인')]\n",
      "[('대학생', '대학원생', '교직원'), ('대학생', '대학원생', '교수'), ('대학생', '대학원생', '일반인'), ('대학생', '교직원', '교수'), ('대학생', '교직원', '일반인'), ('대학생', '교수', '일반인'), ('대학원생', '교직원', '교수'), ('대학원생', '교직원', '일반인'), ('대학원생', '교수', '일반인'), ('교직원', '교수', '일반인')]\n",
      "[('대학생', '대학원생', '교직원', '교수'), ('대학생', '대학원생', '교직원', '일반인'), ('대학생', '대학원생', '교수', '일반인'), ('대학생', '교직원', '교수', '일반인'), ('대학원생', '교직원', '교수', '일반인')]\n",
      "[('대학생', '대학원생', '교직원', '교수', '일반인')]\n"
     ]
    }
   ],
   "source": [
    "print(list(combinations(['대학생','대학원생','교직원','교수','일반인'],1)))\n",
    "print(list(combinations(['대학생','대학원생','교직원','교수','일반인'],2)))\n",
    "print(list(combinations(['대학생','대학원생','교직원','교수','일반인'],3)))\n",
    "print(list(combinations(['대학생','대학원생','교직원','교수','일반인'],4)))\n",
    "print(list(combinations(['대학생','대학원생','교직원','교수','일반인'],5)))"
   ]
  },
  {
   "cell_type": "code",
   "execution_count": 12,
   "metadata": {},
   "outputs": [
    {
     "data": {
      "application/vnd.jupyter.widget-view+json": {
       "model_id": "6e0aa9c953784e188f66ea2ccbb7faad",
       "version_major": 2,
       "version_minor": 0
      },
      "text/plain": [
       "HBox(children=(HTML(value=''), FloatProgress(value=0.0, max=1134.0), HTML(value='')))"
      ]
     },
     "metadata": {},
     "output_type": "display_data"
    },
    {
     "name": "stdout",
     "output_type": "stream",
     "text": [
      "\n"
     ]
    }
   ],
   "source": [
    "lst2 = []\n",
    "for i in tqdm(range(lala.shape[0])):\n",
    "    lst=[]\n",
    "    if lala.iloc[i,0] == 1:\n",
    "        lst.append('대학생')\n",
    "    if lala.iloc[i,1] == 1:\n",
    "        lst.append('대학원생')\n",
    "    if lala.iloc[i,2] == 1:\n",
    "        lst.append('교직원')\n",
    "    if lala.iloc[i,3] == 1:\n",
    "        lst.append('교수')\n",
    "    if lala.iloc[i,4] == 1:\n",
    "        lst.append('일반인')\n",
    "    lst2.append(lst)"
   ]
  },
  {
   "cell_type": "code",
   "execution_count": 13,
   "metadata": {},
   "outputs": [],
   "source": [
    "lst3 = []\n",
    "for i in lst2:\n",
    "    lst3.append(str(i))"
   ]
  },
  {
   "cell_type": "code",
   "execution_count": 14,
   "metadata": {},
   "outputs": [
    {
     "data": {
      "text/plain": [
       "{\"['교수']\",\n",
       " \"['교직원', '교수', '일반인']\",\n",
       " \"['교직원', '교수']\",\n",
       " \"['교직원', '일반인']\",\n",
       " \"['교직원']\",\n",
       " \"['대학생', '대학원생', '교직원', '교수', '일반인']\",\n",
       " \"['대학생', '대학원생', '교직원', '교수']\",\n",
       " \"['대학생', '대학원생', '교직원', '일반인']\",\n",
       " \"['대학생', '대학원생', '교직원']\",\n",
       " \"['대학생', '대학원생', '일반인']\",\n",
       " \"['대학생', '대학원생']\",\n",
       " \"['대학생', '일반인']\",\n",
       " \"['대학생']\",\n",
       " \"['대학원생', '교직원', '교수', '일반인']\",\n",
       " \"['대학원생', '교직원', '일반인']\",\n",
       " \"['대학원생']\",\n",
       " \"['일반인']\"}"
      ]
     },
     "execution_count": 14,
     "metadata": {},
     "output_type": "execute_result"
    }
   ],
   "source": [
    "set(lst3)"
   ]
  },
  {
   "cell_type": "code",
   "execution_count": 15,
   "metadata": {},
   "outputs": [],
   "source": [
    "## 12label이 삭제되었다.\n",
    "lst4 = []\n",
    "for i in lst3:\n",
    "    if i == \"['대학생']\":\n",
    "        lst4.append(0)\n",
    "    if i == \"['대학원생']\":\n",
    "        lst4.append(1)\n",
    "    if i == \"['일반인']\":\n",
    "        lst4.append(2)\n",
    "    if i == \"['교수']\":\n",
    "        lst4.append(3)\n",
    "    if i == \"['교직원']\":\n",
    "        lst4.append(4)\n",
    "    if i == \"['교직원', '교수']\":\n",
    "        lst4.append(5)\n",
    "    if i == \"['교직원', '일반인']\":\n",
    "        lst4.append(6)\n",
    "    if i == \"['대학생', '대학원생']\":\n",
    "        lst4.append(7)\n",
    "    if i == \"['대학생', '일반인']\":\n",
    "        lst4.append(8)\n",
    "    if i == \"['교직원', '교수', '일반인']\":\n",
    "        lst4.append(9)\n",
    "    if i == \"['대학생', '대학원생', '교직원']\":\n",
    "        lst4.append(10)\n",
    "    if i == \"['대학생', '대학원생', '일반인']\":\n",
    "        lst4.append(11)\n",
    "    if i == \"['대학원생', '교직원', '일반인']\":\n",
    "        lst4.append(12)\n",
    "    if i == \"['대학생', '대학원생', '교직원', '교수']\":\n",
    "        lst4.append(13)\n",
    "    if i == \"['대학생', '대학원생', '교직원', '일반인']\":\n",
    "        lst4.append(14)\n",
    "    if i == \"['대학원생', '교직원', '교수', '일반인']\":\n",
    "        lst4.append(15)\n",
    "    if i == \"['대학생', '대학원생', '교직원', '교수', '일반인']\":\n",
    "        lst4.append(16)"
   ]
  },
  {
   "cell_type": "code",
   "execution_count": 16,
   "metadata": {},
   "outputs": [],
   "source": [
    "words_df = pd.concat([words_df,pd.DataFrame(lst4,columns=['label'])],axis=1)"
   ]
  },
  {
   "cell_type": "code",
   "execution_count": 17,
   "metadata": {},
   "outputs": [
    {
     "data": {
      "text/html": [
       "<div>\n",
       "<style scoped>\n",
       "    .dataframe tbody tr th:only-of-type {\n",
       "        vertical-align: middle;\n",
       "    }\n",
       "\n",
       "    .dataframe tbody tr th {\n",
       "        vertical-align: top;\n",
       "    }\n",
       "\n",
       "    .dataframe thead th {\n",
       "        text-align: right;\n",
       "    }\n",
       "</style>\n",
       "<table border=\"1\" class=\"dataframe\">\n",
       "  <thead>\n",
       "    <tr style=\"text-align: right;\">\n",
       "      <th></th>\n",
       "      <th>0</th>\n",
       "      <th>1</th>\n",
       "      <th>2</th>\n",
       "      <th>3</th>\n",
       "      <th>4</th>\n",
       "      <th>5</th>\n",
       "      <th>6</th>\n",
       "      <th>7</th>\n",
       "      <th>8</th>\n",
       "      <th>9</th>\n",
       "      <th>...</th>\n",
       "      <th>518</th>\n",
       "      <th>519</th>\n",
       "      <th>520</th>\n",
       "      <th>521</th>\n",
       "      <th>522</th>\n",
       "      <th>523</th>\n",
       "      <th>524</th>\n",
       "      <th>525</th>\n",
       "      <th>526</th>\n",
       "      <th>label</th>\n",
       "    </tr>\n",
       "  </thead>\n",
       "  <tbody>\n",
       "    <tr>\n",
       "      <th>0</th>\n",
       "      <td>교섭</td>\n",
       "      <td>요구</td>\n",
       "      <td>노동조합</td>\n",
       "      <td>확정</td>\n",
       "      <td>공고</td>\n",
       "      <td>노동</td>\n",
       "      <td>조합</td>\n",
       "      <td>노동</td>\n",
       "      <td>관계</td>\n",
       "      <td>조정법</td>\n",
       "      <td>...</td>\n",
       "      <td>NaN</td>\n",
       "      <td>NaN</td>\n",
       "      <td>NaN</td>\n",
       "      <td>NaN</td>\n",
       "      <td>NaN</td>\n",
       "      <td>NaN</td>\n",
       "      <td>NaN</td>\n",
       "      <td>NaN</td>\n",
       "      <td>NaN</td>\n",
       "      <td>5</td>\n",
       "    </tr>\n",
       "    <tr>\n",
       "      <th>1</th>\n",
       "      <td>통학</td>\n",
       "      <td>노선버스</td>\n",
       "      <td>관련</td>\n",
       "      <td>운행</td>\n",
       "      <td>시간</td>\n",
       "      <td>변동</td>\n",
       "      <td>사항</td>\n",
       "      <td>안내</td>\n",
       "      <td>운행</td>\n",
       "      <td>통학</td>\n",
       "      <td>...</td>\n",
       "      <td>NaN</td>\n",
       "      <td>NaN</td>\n",
       "      <td>NaN</td>\n",
       "      <td>NaN</td>\n",
       "      <td>NaN</td>\n",
       "      <td>NaN</td>\n",
       "      <td>NaN</td>\n",
       "      <td>NaN</td>\n",
       "      <td>NaN</td>\n",
       "      <td>10</td>\n",
       "    </tr>\n",
       "    <tr>\n",
       "      <th>2</th>\n",
       "      <td>상반기</td>\n",
       "      <td>퇴직</td>\n",
       "      <td>공무원</td>\n",
       "      <td>포상</td>\n",
       "      <td>추천</td>\n",
       "      <td>후보자</td>\n",
       "      <td>대하다</td>\n",
       "      <td>아래</td>\n",
       "      <td>공개</td>\n",
       "      <td>검증</td>\n",
       "      <td>...</td>\n",
       "      <td>NaN</td>\n",
       "      <td>NaN</td>\n",
       "      <td>NaN</td>\n",
       "      <td>NaN</td>\n",
       "      <td>NaN</td>\n",
       "      <td>NaN</td>\n",
       "      <td>NaN</td>\n",
       "      <td>NaN</td>\n",
       "      <td>NaN</td>\n",
       "      <td>16</td>\n",
       "    </tr>\n",
       "    <tr>\n",
       "      <th>3</th>\n",
       "      <td>지자체</td>\n",
       "      <td>대학</td>\n",
       "      <td>협력</td>\n",
       "      <td>기반</td>\n",
       "      <td>지역</td>\n",
       "      <td>혁신</td>\n",
       "      <td>사업</td>\n",
       "      <td>경남지</td>\n",
       "      <td>혁신</td>\n",
       "      <td>플랫폼</td>\n",
       "      <td>...</td>\n",
       "      <td>NaN</td>\n",
       "      <td>NaN</td>\n",
       "      <td>NaN</td>\n",
       "      <td>NaN</td>\n",
       "      <td>NaN</td>\n",
       "      <td>NaN</td>\n",
       "      <td>NaN</td>\n",
       "      <td>NaN</td>\n",
       "      <td>NaN</td>\n",
       "      <td>7</td>\n",
       "    </tr>\n",
       "    <tr>\n",
       "      <th>4</th>\n",
       "      <td>재학</td>\n",
       "      <td>등록금</td>\n",
       "      <td>추가</td>\n",
       "      <td>수납</td>\n",
       "      <td>일정</td>\n",
       "      <td>아래</td>\n",
       "      <td>알리다</td>\n",
       "      <td>드리다</td>\n",
       "      <td>해당</td>\n",
       "      <td>학생</td>\n",
       "      <td>...</td>\n",
       "      <td>NaN</td>\n",
       "      <td>NaN</td>\n",
       "      <td>NaN</td>\n",
       "      <td>NaN</td>\n",
       "      <td>NaN</td>\n",
       "      <td>NaN</td>\n",
       "      <td>NaN</td>\n",
       "      <td>NaN</td>\n",
       "      <td>NaN</td>\n",
       "      <td>7</td>\n",
       "    </tr>\n",
       "    <tr>\n",
       "      <th>...</th>\n",
       "      <td>...</td>\n",
       "      <td>...</td>\n",
       "      <td>...</td>\n",
       "      <td>...</td>\n",
       "      <td>...</td>\n",
       "      <td>...</td>\n",
       "      <td>...</td>\n",
       "      <td>...</td>\n",
       "      <td>...</td>\n",
       "      <td>...</td>\n",
       "      <td>...</td>\n",
       "      <td>...</td>\n",
       "      <td>...</td>\n",
       "      <td>...</td>\n",
       "      <td>...</td>\n",
       "      <td>...</td>\n",
       "      <td>...</td>\n",
       "      <td>...</td>\n",
       "      <td>...</td>\n",
       "      <td>...</td>\n",
       "      <td>...</td>\n",
       "    </tr>\n",
       "    <tr>\n",
       "      <th>1129</th>\n",
       "      <td>학생</td>\n",
       "      <td>인건비</td>\n",
       "      <td>통합</td>\n",
       "      <td>관리기관</td>\n",
       "      <td>국립대학</td>\n",
       "      <td>산학</td>\n",
       "      <td>협력단</td>\n",
       "      <td>학생</td>\n",
       "      <td>인건비</td>\n",
       "      <td>지급</td>\n",
       "      <td>...</td>\n",
       "      <td>NaN</td>\n",
       "      <td>NaN</td>\n",
       "      <td>NaN</td>\n",
       "      <td>NaN</td>\n",
       "      <td>NaN</td>\n",
       "      <td>NaN</td>\n",
       "      <td>NaN</td>\n",
       "      <td>NaN</td>\n",
       "      <td>NaN</td>\n",
       "      <td>16</td>\n",
       "    </tr>\n",
       "    <tr>\n",
       "      <th>1130</th>\n",
       "      <td>국가</td>\n",
       "      <td>연구</td>\n",
       "      <td>개발사업</td>\n",
       "      <td>관하다</td>\n",
       "      <td>범부처</td>\n",
       "      <td>공통</td>\n",
       "      <td>규정</td>\n",
       "      <td>국가</td>\n",
       "      <td>연구</td>\n",
       "      <td>개발</td>\n",
       "      <td>...</td>\n",
       "      <td>NaN</td>\n",
       "      <td>NaN</td>\n",
       "      <td>NaN</td>\n",
       "      <td>NaN</td>\n",
       "      <td>NaN</td>\n",
       "      <td>NaN</td>\n",
       "      <td>NaN</td>\n",
       "      <td>NaN</td>\n",
       "      <td>NaN</td>\n",
       "      <td>16</td>\n",
       "    </tr>\n",
       "    <tr>\n",
       "      <th>1131</th>\n",
       "      <td>기술</td>\n",
       "      <td>동향</td>\n",
       "      <td>조사</td>\n",
       "      <td>특허</td>\n",
       "      <td>작성</td>\n",
       "      <td>수행</td>\n",
       "      <td>기관</td>\n",
       "      <td>모집</td>\n",
       "      <td>공고</td>\n",
       "      <td>경상</td>\n",
       "      <td>...</td>\n",
       "      <td>NaN</td>\n",
       "      <td>NaN</td>\n",
       "      <td>NaN</td>\n",
       "      <td>NaN</td>\n",
       "      <td>NaN</td>\n",
       "      <td>NaN</td>\n",
       "      <td>NaN</td>\n",
       "      <td>NaN</td>\n",
       "      <td>NaN</td>\n",
       "      <td>2</td>\n",
       "    </tr>\n",
       "    <tr>\n",
       "      <th>1132</th>\n",
       "      <td>스마트</td>\n",
       "      <td>공장</td>\n",
       "      <td>사이니</td>\n",
       "      <td>도입</td>\n",
       "      <td>확산</td>\n",
       "      <td>실증</td>\n",
       "      <td>연구</td>\n",
       "      <td>실증</td>\n",
       "      <td>기업</td>\n",
       "      <td>모집</td>\n",
       "      <td>...</td>\n",
       "      <td>NaN</td>\n",
       "      <td>NaN</td>\n",
       "      <td>NaN</td>\n",
       "      <td>NaN</td>\n",
       "      <td>NaN</td>\n",
       "      <td>NaN</td>\n",
       "      <td>NaN</td>\n",
       "      <td>NaN</td>\n",
       "      <td>NaN</td>\n",
       "      <td>2</td>\n",
       "    </tr>\n",
       "    <tr>\n",
       "      <th>1133</th>\n",
       "      <td>공고</td>\n",
       "      <td>교섭</td>\n",
       "      <td>요구</td>\n",
       "      <td>사실</td>\n",
       "      <td>공고</td>\n",
       "      <td>전국</td>\n",
       "      <td>대학</td>\n",
       "      <td>노동</td>\n",
       "      <td>조합</td>\n",
       "      <td>교섭</td>\n",
       "      <td>...</td>\n",
       "      <td>NaN</td>\n",
       "      <td>NaN</td>\n",
       "      <td>NaN</td>\n",
       "      <td>NaN</td>\n",
       "      <td>NaN</td>\n",
       "      <td>NaN</td>\n",
       "      <td>NaN</td>\n",
       "      <td>NaN</td>\n",
       "      <td>NaN</td>\n",
       "      <td>5</td>\n",
       "    </tr>\n",
       "  </tbody>\n",
       "</table>\n",
       "<p>1134 rows × 528 columns</p>\n",
       "</div>"
      ],
      "text/plain": [
       "        0     1     2     3     4    5    6    7    8    9  ...  518  519  \\\n",
       "0      교섭    요구  노동조합    확정    공고   노동   조합   노동   관계  조정법  ...  NaN  NaN   \n",
       "1      통학  노선버스    관련    운행    시간   변동   사항   안내   운행   통학  ...  NaN  NaN   \n",
       "2     상반기    퇴직   공무원    포상    추천  후보자  대하다   아래   공개   검증  ...  NaN  NaN   \n",
       "3     지자체    대학    협력    기반    지역   혁신   사업  경남지   혁신  플랫폼  ...  NaN  NaN   \n",
       "4      재학   등록금    추가    수납    일정   아래  알리다  드리다   해당   학생  ...  NaN  NaN   \n",
       "...   ...   ...   ...   ...   ...  ...  ...  ...  ...  ...  ...  ...  ...   \n",
       "1129   학생   인건비    통합  관리기관  국립대학   산학  협력단   학생  인건비   지급  ...  NaN  NaN   \n",
       "1130   국가    연구  개발사업   관하다   범부처   공통   규정   국가   연구   개발  ...  NaN  NaN   \n",
       "1131   기술    동향    조사    특허    작성   수행   기관   모집   공고   경상  ...  NaN  NaN   \n",
       "1132  스마트    공장   사이니    도입    확산   실증   연구   실증   기업   모집  ...  NaN  NaN   \n",
       "1133   공고    교섭    요구    사실    공고   전국   대학   노동   조합   교섭  ...  NaN  NaN   \n",
       "\n",
       "      520  521  522  523  524  525  526 label  \n",
       "0     NaN  NaN  NaN  NaN  NaN  NaN  NaN     5  \n",
       "1     NaN  NaN  NaN  NaN  NaN  NaN  NaN    10  \n",
       "2     NaN  NaN  NaN  NaN  NaN  NaN  NaN    16  \n",
       "3     NaN  NaN  NaN  NaN  NaN  NaN  NaN     7  \n",
       "4     NaN  NaN  NaN  NaN  NaN  NaN  NaN     7  \n",
       "...   ...  ...  ...  ...  ...  ...  ...   ...  \n",
       "1129  NaN  NaN  NaN  NaN  NaN  NaN  NaN    16  \n",
       "1130  NaN  NaN  NaN  NaN  NaN  NaN  NaN    16  \n",
       "1131  NaN  NaN  NaN  NaN  NaN  NaN  NaN     2  \n",
       "1132  NaN  NaN  NaN  NaN  NaN  NaN  NaN     2  \n",
       "1133  NaN  NaN  NaN  NaN  NaN  NaN  NaN     5  \n",
       "\n",
       "[1134 rows x 528 columns]"
      ]
     },
     "execution_count": 17,
     "metadata": {},
     "output_type": "execute_result"
    }
   ],
   "source": [
    "words_df"
   ]
  },
  {
   "cell_type": "code",
   "execution_count": 18,
   "metadata": {},
   "outputs": [],
   "source": [
    "words_df.to_excel('용진이한테줄거1.xlsx')"
   ]
  },
  {
   "cell_type": "code",
   "execution_count": 19,
   "metadata": {},
   "outputs": [],
   "source": [
    "lst2 = []\n",
    "for j in range(17):\n",
    "    lst = []\n",
    "    plpl = words_df[words_df.label==j]\n",
    "    for i in range(words_df[words_df.label==j].shape[0]):\n",
    "        ppp = plpl.iloc[i,:527]\n",
    "        lst.extend(list(ppp[ppp.isna()==False]))\n",
    "    lst2.append(lst)"
   ]
  },
  {
   "cell_type": "code",
   "execution_count": 20,
   "metadata": {},
   "outputs": [],
   "source": [
    "aaaaa = pd.DataFrame(lst2)"
   ]
  },
  {
   "cell_type": "code",
   "execution_count": 21,
   "metadata": {},
   "outputs": [],
   "source": [
    "aaaaa.T.to_excel('용진이거2.xlsx')"
   ]
  },
  {
   "cell_type": "code",
   "execution_count": 26,
   "metadata": {},
   "outputs": [
    {
     "data": {
      "text/plain": [
       "(array([  0, 399, 520, 792, 900], dtype=int64),)"
      ]
     },
     "execution_count": 26,
     "metadata": {},
     "output_type": "execute_result"
    }
   ],
   "source": [
    "import numpy as np\n",
    "np.where(np.array(test_df.index)==0)"
   ]
  },
  {
   "cell_type": "code",
   "execution_count": 55,
   "metadata": {},
   "outputs": [
    {
     "name": "stdout",
     "output_type": "stream",
     "text": [
      "399\n",
      "대학생     354\n",
      "대학원생    297\n",
      "교직원      86\n",
      "교수       75\n",
      "일반인     181\n",
      "dtype: int64\n"
     ]
    },
    {
     "data": {
      "text/plain": [
       "315"
      ]
     },
     "execution_count": 55,
     "metadata": {},
     "output_type": "execute_result"
    }
   ],
   "source": [
    "print(test_df.iloc[:399,2:].shape[0])\n",
    "print(test_df.iloc[:399,2:].sum())\n",
    "np.sum(np.sum(test_df.iloc[:399,2:],axis=1)>1)"
   ]
  },
  {
   "cell_type": "code",
   "execution_count": 57,
   "metadata": {},
   "outputs": [
    {
     "name": "stdout",
     "output_type": "stream",
     "text": [
      "121\n",
      "대학생     121\n",
      "대학원생     20\n",
      "교직원       4\n",
      "교수        4\n",
      "일반인       1\n",
      "dtype: int64\n"
     ]
    },
    {
     "data": {
      "text/plain": [
       "20"
      ]
     },
     "execution_count": 57,
     "metadata": {},
     "output_type": "execute_result"
    }
   ],
   "source": [
    "print(test_df.iloc[399:520,2:].shape[0])\n",
    "print(test_df.iloc[399:520,2:].sum())\n",
    "np.sum(np.sum(test_df.iloc[399:520,2:],axis=1)>1)"
   ]
  },
  {
   "cell_type": "code",
   "execution_count": 58,
   "metadata": {},
   "outputs": [
    {
     "name": "stdout",
     "output_type": "stream",
     "text": [
      "272\n",
      "대학생       0\n",
      "대학원생      0\n",
      "교직원       0\n",
      "교수        0\n",
      "일반인     272\n",
      "dtype: int64\n"
     ]
    },
    {
     "data": {
      "text/plain": [
       "0"
      ]
     },
     "execution_count": 58,
     "metadata": {},
     "output_type": "execute_result"
    }
   ],
   "source": [
    "print(test_df.iloc[520:792,2:].shape[0])\n",
    "print(test_df.iloc[520:792,2:].sum())\n",
    "np.sum(np.sum(test_df.iloc[520:792,2:],axis=1)>1)"
   ]
  },
  {
   "cell_type": "code",
   "execution_count": 59,
   "metadata": {},
   "outputs": [
    {
     "name": "stdout",
     "output_type": "stream",
     "text": [
      "108\n",
      "대학생     108\n",
      "대학원생      3\n",
      "교직원       0\n",
      "교수        0\n",
      "일반인       0\n",
      "dtype: int64\n"
     ]
    },
    {
     "data": {
      "text/plain": [
       "3"
      ]
     },
     "execution_count": 59,
     "metadata": {},
     "output_type": "execute_result"
    }
   ],
   "source": [
    "print(test_df.iloc[792:900,2:].shape[0])\n",
    "print(test_df.iloc[792:900,2:].sum())\n",
    "np.sum(np.sum(test_df.iloc[792:900,2:],axis=1)>1)"
   ]
  },
  {
   "cell_type": "code",
   "execution_count": 60,
   "metadata": {},
   "outputs": [
    {
     "name": "stdout",
     "output_type": "stream",
     "text": [
      "234\n",
      "대학생      91\n",
      "대학원생     92\n",
      "교직원     124\n",
      "교수      121\n",
      "일반인     145\n",
      "dtype: int64\n"
     ]
    },
    {
     "data": {
      "text/plain": [
       "132"
      ]
     },
     "execution_count": 60,
     "metadata": {},
     "output_type": "execute_result"
    }
   ],
   "source": [
    "print(test_df.iloc[900:,2:].shape[0])\n",
    "print(test_df.iloc[900:,2:].sum())\n",
    "np.sum(np.sum(test_df.iloc[900:,2:],axis=1)>1)"
   ]
  },
  {
   "cell_type": "code",
   "execution_count": 289,
   "metadata": {},
   "outputs": [],
   "source": [
    "ppp = words_df[words_df.label==0].iloc[0,:537]"
   ]
  },
  {
   "cell_type": "code",
   "execution_count": 290,
   "metadata": {},
   "outputs": [
    {
     "data": {
      "text/plain": [
       "0        대학\n",
       "1       청소년\n",
       "2        교육\n",
       "3        지원\n",
       "4        사업\n",
       "       ... \n",
       "128      한국\n",
       "129      장학\n",
       "130      재단\n",
       "131    홈페이지\n",
       "132      신청\n",
       "Name: 5, Length: 133, dtype: object"
      ]
     },
     "execution_count": 290,
     "metadata": {},
     "output_type": "execute_result"
    }
   ],
   "source": [
    "ppp[ppp.isna()==False]"
   ]
  }
 ],
 "metadata": {
  "kernelspec": {
   "display_name": "Python 3",
   "language": "python",
   "name": "python3"
  },
  "language_info": {
   "codemirror_mode": {
    "name": "ipython",
    "version": 3
   },
   "file_extension": ".py",
   "mimetype": "text/x-python",
   "name": "python",
   "nbconvert_exporter": "python",
   "pygments_lexer": "ipython3",
   "version": "3.8.5"
  }
 },
 "nbformat": 4,
 "nbformat_minor": 4
}
