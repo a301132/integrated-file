{
 "cells": [
  {
   "cell_type": "code",
   "execution_count": 2,
   "metadata": {},
   "outputs": [],
   "source": [
    "import pandas as pd\n",
    "import numpy as np\n",
    "import selenium\n",
    "from selenium import webdriver\n",
    "import numpy as np\n",
    "import pandas as pd\n",
    "import time\n",
    "from bs4 import BeautifulSoup\n",
    "import parser"
   ]
  },
  {
   "cell_type": "code",
   "execution_count": 3,
   "metadata": {},
   "outputs": [],
   "source": [
    "path = 'C:\\\\Users\\\\a3011\\\\Downloads\\\\chromedriver_win32\\\\chromedriver.exe'\n",
    "driver = webdriver.Chrome(path)"
   ]
  },
  {
   "cell_type": "code",
   "execution_count": 4,
   "metadata": {},
   "outputs": [],
   "source": [
    "driver.get(\"https://everytime.kr/\")"
   ]
  },
  {
   "cell_type": "code",
   "execution_count": 4,
   "metadata": {},
   "outputs": [],
   "source": [
    "driver.find_element_by_xpath('//*[@id=\"container\"]/div[2]/div[2]').click()"
   ]
  },
  {
   "cell_type": "code",
   "execution_count": 12,
   "metadata": {},
   "outputs": [],
   "source": [
    "import time"
   ]
  },
  {
   "cell_type": "code",
   "execution_count": 5,
   "metadata": {},
   "outputs": [],
   "source": [
    "days = []\n",
    "like = []\n",
    "daegle = []\n",
    "scrap = []\n",
    "context = []\n",
    "title = []\n",
    "for i in [2,3,4,5]:\n",
    "    driver.find_element_by_xpath('//*[@id=\"container\"]/div[2]/div['+str(i)+']').click()\n",
    "    if i ==2:\n",
    "        num =5\n",
    "    if i ==3:\n",
    "        num = 5\n",
    "    if i ==4:\n",
    "        num =4\n",
    "    if i ==5:\n",
    "        num=3\n",
    "    for k in range(num):\n",
    "        for j in [1,2,3,4,5,6,7,8,9,10,11,12,13,14,15,16,17,18,19,20]:\n",
    "            try:\n",
    "                if k == 1:\n",
    "                    driver.find_element_by_class_name('next').click()\n",
    "                    time.sleep(1)\n",
    "                if k == 2:\n",
    "                    driver.find_element_by_class_name('next').click()\n",
    "                    time.sleep(1)\n",
    "                    driver.find_element_by_class_name('next').click()\n",
    "                    time.sleep(1)\n",
    "                if k == 3:\n",
    "                    driver.find_element_by_class_name('next').click()\n",
    "                    time.sleep(1)\n",
    "                    driver.find_element_by_class_name('next').click()\n",
    "                    time.sleep(1)\n",
    "                    driver.find_element_by_class_name('next').click()\n",
    "                    time.sleep(1)\n",
    "                if k == 4:\n",
    "                    driver.find_element_by_class_name('next').click()\n",
    "                    time.sleep(1)\n",
    "                    driver.find_element_by_class_name('next').click()\n",
    "                    time.sleep(1)\n",
    "                    driver.find_element_by_class_name('next').click()\n",
    "                    time.sleep(1)\n",
    "                    driver.find_element_by_class_name('next').click()\n",
    "                    time.sleep(1)\n",
    "                time.sleep(2)\n",
    "                driver.find_element_by_xpath('//*[@id=\"container\"]/div[3]/article['+str(j)+']/a').click()\n",
    "                time.sleep(2)\n",
    "                abc = driver.find_element_by_xpath('//*[@id=\"container\"]/div[2]/article/a').text\n",
    "                days.append(abc.split('\\n')[:4][1])\n",
    "                like.append(abc.split('\\n')[-5:][0])\n",
    "                daegle.append(abc.split('\\n')[-5:][1])\n",
    "                scrap.append(abc.split('\\n')[-5:][2])\n",
    "                context.append(abc.split('\\n')[4:-5][1:])\n",
    "                title.append(abc.split('\\n')[4:-5][0])\n",
    "                driver.back()\n",
    "                time.sleep(2)\n",
    "                driver.find_element_by_xpath('//*[@id=\"container\"]/div[2]/div['+str(i)+']').click()\n",
    "                time.sleep(2)\n",
    "                \n",
    "            except:\n",
    "                pass"
   ]
  },
  {
   "cell_type": "code",
   "execution_count": 12,
   "metadata": {},
   "outputs": [],
   "source": [
    "aa = pd.DataFrame([days,like,daegle,scrap,title,context]).T"
   ]
  },
  {
   "cell_type": "code",
   "execution_count": 14,
   "metadata": {},
   "outputs": [],
   "source": [
    "aa.to_excel('everytime_best.xlsx')"
   ]
  }
 ],
 "metadata": {
  "kernelspec": {
   "display_name": "Python 3",
   "language": "python",
   "name": "python3"
  },
  "language_info": {
   "codemirror_mode": {
    "name": "ipython",
    "version": 3
   },
   "file_extension": ".py",
   "mimetype": "text/x-python",
   "name": "python",
   "nbconvert_exporter": "python",
   "pygments_lexer": "ipython3",
   "version": "3.8.5"
  }
 },
 "nbformat": 4,
 "nbformat_minor": 4
}
