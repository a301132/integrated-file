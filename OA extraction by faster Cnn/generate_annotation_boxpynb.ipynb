{
 "cells": [
  {
   "cell_type": "code",
   "execution_count": 2,
   "metadata": {},
   "outputs": [],
   "source": [
    "import cv2\n",
    "import numpy as np\n",
    "import matplotlib.pyplot as plt\n",
    "from glob import glob\n",
    "import pandas as pd"
   ]
  },
  {
   "cell_type": "code",
   "execution_count": 7,
   "metadata": {},
   "outputs": [
    {
     "data": {
      "text/plain": [
       "'C:\\\\Users\\\\a3011\\\\바이오의료(세미나)\\\\Knee_FRCNN\\\\knee xaray datasets'"
      ]
     },
     "execution_count": 7,
     "metadata": {},
     "output_type": "execute_result"
    }
   ],
   "source": [
    "import os \n",
    "os.chdir('C:\\\\Users\\\\a3011\\\\바이오의료(세미나)\\\\Knee_FRCNN\\\\knee xaray datasets')\n",
    "os.getcwd()"
   ]
  },
  {
   "cell_type": "code",
   "execution_count": 10,
   "metadata": {},
   "outputs": [
    {
     "data": {
      "text/plain": [
       "['.ipynb_checkpoints',\n",
       " 'annotation_box.csv',\n",
       " 'X_ray_2020_1.png',\n",
       " 'X_ray_2020_10.png',\n",
       " 'X_ray_2020_100.png',\n",
       " 'X_ray_2020_101.png',\n",
       " 'X_ray_2020_102.png',\n",
       " 'X_ray_2020_103.png',\n",
       " 'X_ray_2020_104.png',\n",
       " 'X_ray_2020_105.png',\n",
       " 'X_ray_2020_106.png',\n",
       " 'X_ray_2020_107.png',\n",
       " 'X_ray_2020_108.png',\n",
       " 'X_ray_2020_109.png',\n",
       " 'X_ray_2020_11.png',\n",
       " 'X_ray_2020_110.png',\n",
       " 'X_ray_2020_12.png',\n",
       " 'X_ray_2020_13.png',\n",
       " 'X_ray_2020_14.png',\n",
       " 'X_ray_2020_15.png',\n",
       " 'X_ray_2020_16.png',\n",
       " 'X_ray_2020_17.png',\n",
       " 'X_ray_2020_18.png',\n",
       " 'X_ray_2020_19.png',\n",
       " 'X_ray_2020_2.png',\n",
       " 'X_ray_2020_20.png',\n",
       " 'X_ray_2020_21.png',\n",
       " 'X_ray_2020_22.png',\n",
       " 'X_ray_2020_23.png',\n",
       " 'X_ray_2020_24.png',\n",
       " 'X_ray_2020_25.png',\n",
       " 'X_ray_2020_26.png',\n",
       " 'X_ray_2020_27.png',\n",
       " 'X_ray_2020_28.png',\n",
       " 'X_ray_2020_29.png',\n",
       " 'X_ray_2020_3.png',\n",
       " 'X_ray_2020_30.png',\n",
       " 'X_ray_2020_31.png',\n",
       " 'X_ray_2020_32.png',\n",
       " 'X_ray_2020_33.png',\n",
       " 'X_ray_2020_34.png',\n",
       " 'X_ray_2020_35.png',\n",
       " 'X_ray_2020_36.png',\n",
       " 'X_ray_2020_37.png',\n",
       " 'X_ray_2020_38.png',\n",
       " 'X_ray_2020_39.png',\n",
       " 'X_ray_2020_4.png',\n",
       " 'X_ray_2020_40.png',\n",
       " 'X_ray_2020_41.png',\n",
       " 'X_ray_2020_42.png',\n",
       " 'X_ray_2020_43.png',\n",
       " 'X_ray_2020_44.png',\n",
       " 'X_ray_2020_45.png',\n",
       " 'X_ray_2020_46.png',\n",
       " 'X_ray_2020_47.png',\n",
       " 'X_ray_2020_48.png',\n",
       " 'X_ray_2020_49.png',\n",
       " 'X_ray_2020_5.png',\n",
       " 'X_ray_2020_50.png',\n",
       " 'X_ray_2020_51.png',\n",
       " 'X_ray_2020_52.png',\n",
       " 'X_ray_2020_53.png',\n",
       " 'X_ray_2020_54.png',\n",
       " 'X_ray_2020_55.png',\n",
       " 'X_ray_2020_56.png',\n",
       " 'X_ray_2020_57.png',\n",
       " 'X_ray_2020_58.png',\n",
       " 'X_ray_2020_59.png',\n",
       " 'X_ray_2020_6.png',\n",
       " 'X_ray_2020_60.png',\n",
       " 'X_ray_2020_61.png',\n",
       " 'X_ray_2020_62.png',\n",
       " 'X_ray_2020_63.png',\n",
       " 'X_ray_2020_64.png',\n",
       " 'X_ray_2020_65.png',\n",
       " 'X_ray_2020_66.png',\n",
       " 'X_ray_2020_67.png',\n",
       " 'X_ray_2020_68.png',\n",
       " 'X_ray_2020_69.png',\n",
       " 'X_ray_2020_7.png',\n",
       " 'X_ray_2020_70.png',\n",
       " 'X_ray_2020_71.png',\n",
       " 'X_ray_2020_72.png',\n",
       " 'X_ray_2020_73.png',\n",
       " 'X_ray_2020_74.png',\n",
       " 'X_ray_2020_75.png',\n",
       " 'X_ray_2020_76.png',\n",
       " 'X_ray_2020_77.png',\n",
       " 'X_ray_2020_78.png',\n",
       " 'X_ray_2020_79.png',\n",
       " 'X_ray_2020_8.png',\n",
       " 'X_ray_2020_80.png',\n",
       " 'X_ray_2020_81.png',\n",
       " 'X_ray_2020_82.png',\n",
       " 'X_ray_2020_83.png',\n",
       " 'X_ray_2020_84.png',\n",
       " 'X_ray_2020_85.png',\n",
       " 'X_ray_2020_86.png',\n",
       " 'X_ray_2020_87.png',\n",
       " 'X_ray_2020_88.png',\n",
       " 'X_ray_2020_89.png',\n",
       " 'X_ray_2020_9.png',\n",
       " 'X_ray_2020_90.png',\n",
       " 'X_ray_2020_91.png',\n",
       " 'X_ray_2020_92.png',\n",
       " 'X_ray_2020_93.png',\n",
       " 'X_ray_2020_94.png',\n",
       " 'X_ray_2020_95.png',\n",
       " 'X_ray_2020_96.png',\n",
       " 'X_ray_2020_97.png',\n",
       " 'X_ray_2020_98.png',\n",
       " 'X_ray_2020_99.png']"
      ]
     },
     "execution_count": 10,
     "metadata": {},
     "output_type": "execute_result"
    }
   ],
   "source": [
    "os.listdir()"
   ]
  },
  {
   "cell_type": "code",
   "execution_count": 8,
   "metadata": {},
   "outputs": [
    {
     "data": {
      "text/plain": [
       "110"
      ]
     },
     "execution_count": 8,
     "metadata": {},
     "output_type": "execute_result"
    }
   ],
   "source": [
    "## 경로 설정\n",
    "images=glob('*.png')\n",
    "len(images)"
   ]
  },
  {
   "cell_type": "code",
   "execution_count": 4,
   "metadata": {},
   "outputs": [],
   "source": [
    "annotation_box = pd.DataFrame()\n",
    "\n",
    "for i in images[0:2]:\n",
    "    img = cv2.imread(i, cv2.IMREAD_GRAYSCALE)\n",
    "    cv2.namedWindow(\"img\",2)\n",
    "    cv2.resizeWindow('img', 600,600)\n",
    "    \n",
    "    showCrosshair = False\n",
    "    fromCenter = False\n",
    "    rois = cv2.selectROIs('img', img, showCrosshair, fromCenter) # (x 시작 지점, y 시작 지점, x축 드래그 한 길이, y축 드래그 한 길이)\n",
    "    image_height, image_weight = img.shape\n",
    "    for r in range(rois.shape[0]):\n",
    "        xmin = rois[r][0] / image_weight\n",
    "        xmax = rois[r][2] / image_weight\n",
    "        ymin = rois[r][1] / image_height\n",
    "        ymax = rois[r][3] / image_height\n",
    "        annotation_box = annotation_box.append({'ImageID': i,'LabelName': 'Knee_'+str(r), 'Image_weight': image_weight, 'Image_height': image_height,\n",
    "                                                'xmin': xmin, 'xmax': xmax, 'ymin': ymin, 'ymax': ymax,\n",
    "                                                'xmin_raw': rois[r][0], 'xmax_raw': rois[r][2], 'ymin_raw': rois[r][1], 'ymax_raw': rois[r][3]}, ignore_index=True)\n",
    "    #cv2.imshow('img', img)\n",
    "    cv2.waitKey()\n",
    "    cv2.destroyAllWindows()"
   ]
  },
  {
   "cell_type": "code",
   "execution_count": 5,
   "metadata": {},
   "outputs": [
    {
     "data": {
      "text/html": [
       "<div>\n",
       "<style scoped>\n",
       "    .dataframe tbody tr th:only-of-type {\n",
       "        vertical-align: middle;\n",
       "    }\n",
       "\n",
       "    .dataframe tbody tr th {\n",
       "        vertical-align: top;\n",
       "    }\n",
       "\n",
       "    .dataframe thead th {\n",
       "        text-align: right;\n",
       "    }\n",
       "</style>\n",
       "<table border=\"1\" class=\"dataframe\">\n",
       "  <thead>\n",
       "    <tr style=\"text-align: right;\">\n",
       "      <th></th>\n",
       "      <th>ImageID</th>\n",
       "      <th>Image_height</th>\n",
       "      <th>Image_weight</th>\n",
       "      <th>LabelName</th>\n",
       "      <th>xmax</th>\n",
       "      <th>xmax_raw</th>\n",
       "      <th>xmin</th>\n",
       "      <th>xmin_raw</th>\n",
       "      <th>ymax</th>\n",
       "      <th>ymax_raw</th>\n",
       "      <th>ymin</th>\n",
       "      <th>ymin_raw</th>\n",
       "    </tr>\n",
       "  </thead>\n",
       "  <tbody>\n",
       "    <tr>\n",
       "      <th>0</th>\n",
       "      <td>X_ray_2020_1.png</td>\n",
       "      <td>1994.0</td>\n",
       "      <td>2342.0</td>\n",
       "      <td>Knee_0</td>\n",
       "      <td>0.343296</td>\n",
       "      <td>804.0</td>\n",
       "      <td>0.118275</td>\n",
       "      <td>277.0</td>\n",
       "      <td>0.393681</td>\n",
       "      <td>785.0</td>\n",
       "      <td>0.297894</td>\n",
       "      <td>594.0</td>\n",
       "    </tr>\n",
       "    <tr>\n",
       "      <th>1</th>\n",
       "      <td>X_ray_2020_1.png</td>\n",
       "      <td>1994.0</td>\n",
       "      <td>2342.0</td>\n",
       "      <td>Knee_1</td>\n",
       "      <td>0.381725</td>\n",
       "      <td>894.0</td>\n",
       "      <td>0.543126</td>\n",
       "      <td>1272.0</td>\n",
       "      <td>0.409729</td>\n",
       "      <td>817.0</td>\n",
       "      <td>0.316449</td>\n",
       "      <td>631.0</td>\n",
       "    </tr>\n",
       "    <tr>\n",
       "      <th>2</th>\n",
       "      <td>X_ray_2020_10.png</td>\n",
       "      <td>2384.0</td>\n",
       "      <td>2558.0</td>\n",
       "      <td>Knee_0</td>\n",
       "      <td>0.336591</td>\n",
       "      <td>861.0</td>\n",
       "      <td>0.083268</td>\n",
       "      <td>213.0</td>\n",
       "      <td>0.408138</td>\n",
       "      <td>973.0</td>\n",
       "      <td>0.364933</td>\n",
       "      <td>870.0</td>\n",
       "    </tr>\n",
       "    <tr>\n",
       "      <th>3</th>\n",
       "      <td>X_ray_2020_10.png</td>\n",
       "      <td>2384.0</td>\n",
       "      <td>2558.0</td>\n",
       "      <td>Knee_1</td>\n",
       "      <td>0.353010</td>\n",
       "      <td>903.0</td>\n",
       "      <td>0.576622</td>\n",
       "      <td>1475.0</td>\n",
       "      <td>0.424916</td>\n",
       "      <td>1013.0</td>\n",
       "      <td>0.336409</td>\n",
       "      <td>802.0</td>\n",
       "    </tr>\n",
       "  </tbody>\n",
       "</table>\n",
       "</div>"
      ],
      "text/plain": [
       "             ImageID  Image_height  Image_weight LabelName      xmax  \\\n",
       "0   X_ray_2020_1.png        1994.0        2342.0    Knee_0  0.343296   \n",
       "1   X_ray_2020_1.png        1994.0        2342.0    Knee_1  0.381725   \n",
       "2  X_ray_2020_10.png        2384.0        2558.0    Knee_0  0.336591   \n",
       "3  X_ray_2020_10.png        2384.0        2558.0    Knee_1  0.353010   \n",
       "\n",
       "   xmax_raw      xmin  xmin_raw      ymax  ymax_raw      ymin  ymin_raw  \n",
       "0     804.0  0.118275     277.0  0.393681     785.0  0.297894     594.0  \n",
       "1     894.0  0.543126    1272.0  0.409729     817.0  0.316449     631.0  \n",
       "2     861.0  0.083268     213.0  0.408138     973.0  0.364933     870.0  \n",
       "3     903.0  0.576622    1475.0  0.424916    1013.0  0.336409     802.0  "
      ]
     },
     "execution_count": 5,
     "metadata": {},
     "output_type": "execute_result"
    }
   ],
   "source": [
    "annotation_box"
   ]
  },
  {
   "cell_type": "code",
   "execution_count": 19,
   "metadata": {},
   "outputs": [
    {
     "data": {
      "text/plain": [
       "<matplotlib.image.AxesImage at 0x1989a7c57f0>"
      ]
     },
     "execution_count": 19,
     "metadata": {},
     "output_type": "execute_result"
    },
    {
     "data": {
      "image/png": "[encoded data removed]",
      "text/plain": [
       "<Figure size 432x288 with 1 Axes>"
      ]
     },
     "metadata": {
      "needs_background": "light"
     },
     "output_type": "display_data"
    }
   ],
   "source": [
    "plt.imshow(cv2.imread(images[0], cv2.IMREAD_GRAYSCALE))"
   ]
  },
  {
   "cell_type": "code",
   "execution_count": 15,
   "metadata": {},
   "outputs": [
    {
     "data": {
      "text/plain": [
       "[<matplotlib.lines.Line2D at 0x19899dc2be0>]"
      ]
     },
     "execution_count": 15,
     "metadata": {},
     "output_type": "execute_result"
    },
    {
     "data": {
      "image/png": "[encoded data removed]",
      "text/plain": [
       "<Figure size 432x288 with 1 Axes>"
      ]
     },
     "metadata": {
      "needs_background": "light"
     },
     "output_type": "display_data"
    }
   ],
   "source": [
    "plt.plot(annotation_box['xmax'],annotation_box['ymax'])"
   ]
  },
  {
   "cell_type": "code",
   "execution_count": 6,
   "metadata": {},
   "outputs": [
    {
     "ename": "TypeError",
     "evalue": "Image data of dtype <U16 cannot be converted to float",
     "output_type": "error",
     "traceback": [
      "\u001b[1;31m---------------------------------------------------------------------------\u001b[0m",
      "\u001b[1;31mTypeError\u001b[0m                                 Traceback (most recent call last)",
      "\u001b[1;32m<ipython-input-6-2e61843ae98a>\u001b[0m in \u001b[0;36m<module>\u001b[1;34m\u001b[0m\n\u001b[1;32m----> 1\u001b[1;33m \u001b[0mplt\u001b[0m\u001b[1;33m.\u001b[0m\u001b[0mimshow\u001b[0m\u001b[1;33m(\u001b[0m\u001b[0mimages\u001b[0m\u001b[1;33m[\u001b[0m\u001b[1;36m0\u001b[0m\u001b[1;33m]\u001b[0m\u001b[1;33m)\u001b[0m\u001b[1;33m\u001b[0m\u001b[1;33m\u001b[0m\u001b[0m\n\u001b[0m",
      "\u001b[1;32m~\\anaconda3\\lib\\site-packages\\matplotlib\\pyplot.py\u001b[0m in \u001b[0;36mimshow\u001b[1;34m(X, cmap, norm, aspect, interpolation, alpha, vmin, vmax, origin, extent, filternorm, filterrad, resample, url, data, **kwargs)\u001b[0m\n\u001b[0;32m   2722\u001b[0m         \u001b[0mfilternorm\u001b[0m\u001b[1;33m=\u001b[0m\u001b[1;32mTrue\u001b[0m\u001b[1;33m,\u001b[0m \u001b[0mfilterrad\u001b[0m\u001b[1;33m=\u001b[0m\u001b[1;36m4.0\u001b[0m\u001b[1;33m,\u001b[0m \u001b[0mresample\u001b[0m\u001b[1;33m=\u001b[0m\u001b[1;32mNone\u001b[0m\u001b[1;33m,\u001b[0m \u001b[0murl\u001b[0m\u001b[1;33m=\u001b[0m\u001b[1;32mNone\u001b[0m\u001b[1;33m,\u001b[0m\u001b[1;33m\u001b[0m\u001b[1;33m\u001b[0m\u001b[0m\n\u001b[0;32m   2723\u001b[0m         data=None, **kwargs):\n\u001b[1;32m-> 2724\u001b[1;33m     __ret = gca().imshow(\n\u001b[0m\u001b[0;32m   2725\u001b[0m         \u001b[0mX\u001b[0m\u001b[1;33m,\u001b[0m \u001b[0mcmap\u001b[0m\u001b[1;33m=\u001b[0m\u001b[0mcmap\u001b[0m\u001b[1;33m,\u001b[0m \u001b[0mnorm\u001b[0m\u001b[1;33m=\u001b[0m\u001b[0mnorm\u001b[0m\u001b[1;33m,\u001b[0m \u001b[0maspect\u001b[0m\u001b[1;33m=\u001b[0m\u001b[0maspect\u001b[0m\u001b[1;33m,\u001b[0m\u001b[1;33m\u001b[0m\u001b[1;33m\u001b[0m\u001b[0m\n\u001b[0;32m   2726\u001b[0m         \u001b[0minterpolation\u001b[0m\u001b[1;33m=\u001b[0m\u001b[0minterpolation\u001b[0m\u001b[1;33m,\u001b[0m \u001b[0malpha\u001b[0m\u001b[1;33m=\u001b[0m\u001b[0malpha\u001b[0m\u001b[1;33m,\u001b[0m \u001b[0mvmin\u001b[0m\u001b[1;33m=\u001b[0m\u001b[0mvmin\u001b[0m\u001b[1;33m,\u001b[0m\u001b[1;33m\u001b[0m\u001b[1;33m\u001b[0m\u001b[0m\n",
      "\u001b[1;32m~\\anaconda3\\lib\\site-packages\\matplotlib\\__init__.py\u001b[0m in \u001b[0;36minner\u001b[1;34m(ax, data, *args, **kwargs)\u001b[0m\n\u001b[0;32m   1436\u001b[0m     \u001b[1;32mdef\u001b[0m \u001b[0minner\u001b[0m\u001b[1;33m(\u001b[0m\u001b[0max\u001b[0m\u001b[1;33m,\u001b[0m \u001b[1;33m*\u001b[0m\u001b[0margs\u001b[0m\u001b[1;33m,\u001b[0m \u001b[0mdata\u001b[0m\u001b[1;33m=\u001b[0m\u001b[1;32mNone\u001b[0m\u001b[1;33m,\u001b[0m \u001b[1;33m**\u001b[0m\u001b[0mkwargs\u001b[0m\u001b[1;33m)\u001b[0m\u001b[1;33m:\u001b[0m\u001b[1;33m\u001b[0m\u001b[1;33m\u001b[0m\u001b[0m\n\u001b[0;32m   1437\u001b[0m         \u001b[1;32mif\u001b[0m \u001b[0mdata\u001b[0m \u001b[1;32mis\u001b[0m \u001b[1;32mNone\u001b[0m\u001b[1;33m:\u001b[0m\u001b[1;33m\u001b[0m\u001b[1;33m\u001b[0m\u001b[0m\n\u001b[1;32m-> 1438\u001b[1;33m             \u001b[1;32mreturn\u001b[0m \u001b[0mfunc\u001b[0m\u001b[1;33m(\u001b[0m\u001b[0max\u001b[0m\u001b[1;33m,\u001b[0m \u001b[1;33m*\u001b[0m\u001b[0mmap\u001b[0m\u001b[1;33m(\u001b[0m\u001b[0msanitize_sequence\u001b[0m\u001b[1;33m,\u001b[0m \u001b[0margs\u001b[0m\u001b[1;33m)\u001b[0m\u001b[1;33m,\u001b[0m \u001b[1;33m**\u001b[0m\u001b[0mkwargs\u001b[0m\u001b[1;33m)\u001b[0m\u001b[1;33m\u001b[0m\u001b[1;33m\u001b[0m\u001b[0m\n\u001b[0m\u001b[0;32m   1439\u001b[0m \u001b[1;33m\u001b[0m\u001b[0m\n\u001b[0;32m   1440\u001b[0m         \u001b[0mbound\u001b[0m \u001b[1;33m=\u001b[0m \u001b[0mnew_sig\u001b[0m\u001b[1;33m.\u001b[0m\u001b[0mbind\u001b[0m\u001b[1;33m(\u001b[0m\u001b[0max\u001b[0m\u001b[1;33m,\u001b[0m \u001b[1;33m*\u001b[0m\u001b[0margs\u001b[0m\u001b[1;33m,\u001b[0m \u001b[1;33m**\u001b[0m\u001b[0mkwargs\u001b[0m\u001b[1;33m)\u001b[0m\u001b[1;33m\u001b[0m\u001b[1;33m\u001b[0m\u001b[0m\n",
      "\u001b[1;32m~\\anaconda3\\lib\\site-packages\\matplotlib\\axes\\_axes.py\u001b[0m in \u001b[0;36mimshow\u001b[1;34m(self, X, cmap, norm, aspect, interpolation, alpha, vmin, vmax, origin, extent, filternorm, filterrad, resample, url, **kwargs)\u001b[0m\n\u001b[0;32m   5521\u001b[0m                               resample=resample, **kwargs)\n\u001b[0;32m   5522\u001b[0m \u001b[1;33m\u001b[0m\u001b[0m\n\u001b[1;32m-> 5523\u001b[1;33m         \u001b[0mim\u001b[0m\u001b[1;33m.\u001b[0m\u001b[0mset_data\u001b[0m\u001b[1;33m(\u001b[0m\u001b[0mX\u001b[0m\u001b[1;33m)\u001b[0m\u001b[1;33m\u001b[0m\u001b[1;33m\u001b[0m\u001b[0m\n\u001b[0m\u001b[0;32m   5524\u001b[0m         \u001b[0mim\u001b[0m\u001b[1;33m.\u001b[0m\u001b[0mset_alpha\u001b[0m\u001b[1;33m(\u001b[0m\u001b[0malpha\u001b[0m\u001b[1;33m)\u001b[0m\u001b[1;33m\u001b[0m\u001b[1;33m\u001b[0m\u001b[0m\n\u001b[0;32m   5525\u001b[0m         \u001b[1;32mif\u001b[0m \u001b[0mim\u001b[0m\u001b[1;33m.\u001b[0m\u001b[0mget_clip_path\u001b[0m\u001b[1;33m(\u001b[0m\u001b[1;33m)\u001b[0m \u001b[1;32mis\u001b[0m \u001b[1;32mNone\u001b[0m\u001b[1;33m:\u001b[0m\u001b[1;33m\u001b[0m\u001b[1;33m\u001b[0m\u001b[0m\n",
      "\u001b[1;32m~\\anaconda3\\lib\\site-packages\\matplotlib\\image.py\u001b[0m in \u001b[0;36mset_data\u001b[1;34m(self, A)\u001b[0m\n\u001b[0;32m    698\u001b[0m         if (self._A.dtype != np.uint8 and\n\u001b[0;32m    699\u001b[0m                 not np.can_cast(self._A.dtype, float, \"same_kind\")):\n\u001b[1;32m--> 700\u001b[1;33m             raise TypeError(\"Image data of dtype {} cannot be converted to \"\n\u001b[0m\u001b[0;32m    701\u001b[0m                             \"float\".format(self._A.dtype))\n\u001b[0;32m    702\u001b[0m \u001b[1;33m\u001b[0m\u001b[0m\n",
      "\u001b[1;31mTypeError\u001b[0m: Image data of dtype <U16 cannot be converted to float"
     ]
    },
    {
     "data": {
      "image/png": "[encoded data removed]",
      "text/plain": [
       "<Figure size 432x288 with 1 Axes>"
      ]
     },
     "metadata": {
      "needs_background": "light"
     },
     "output_type": "display_data"
    }
   ],
   "source": [
    "plt.imshow(images[0])"
   ]
  },
  {
   "cell_type": "code",
   "execution_count": 9,
   "metadata": {},
   "outputs": [
    {
     "ename": "NameError",
     "evalue": "name 'annotation_box' is not defined",
     "output_type": "error",
     "traceback": [
      "\u001b[1;31m---------------------------------------------------------------------------\u001b[0m",
      "\u001b[1;31mNameError\u001b[0m                                 Traceback (most recent call last)",
      "\u001b[1;32m<ipython-input-9-1affb0e55a62>\u001b[0m in \u001b[0;36m<module>\u001b[1;34m\u001b[0m\n\u001b[1;32m----> 1\u001b[1;33m \u001b[0mannotation_box\u001b[0m\u001b[1;33m\u001b[0m\u001b[1;33m\u001b[0m\u001b[0m\n\u001b[0m",
      "\u001b[1;31mNameError\u001b[0m: name 'annotation_box' is not defined"
     ]
    }
   ],
   "source": [
    "annotation_box"
   ]
  },
  {
   "cell_type": "code",
   "execution_count": 12,
   "metadata": {},
   "outputs": [
    {
     "data": {
      "text/plain": [
       "'C:\\\\Users\\\\a3011\\\\바이오의료(세미나)\\\\Knee_FRCNN\\\\knee xaray datasets'"
      ]
     },
     "execution_count": 12,
     "metadata": {},
     "output_type": "execute_result"
    }
   ],
   "source": [
    "os.getcwd()"
   ]
  },
  {
   "cell_type": "code",
   "execution_count": 11,
   "metadata": {},
   "outputs": [
    {
     "ename": "NameError",
     "evalue": "name 'annotation_box' is not defined",
     "output_type": "error",
     "traceback": [
      "\u001b[1;31m---------------------------------------------------------------------------\u001b[0m",
      "\u001b[1;31mNameError\u001b[0m                                 Traceback (most recent call last)",
      "\u001b[1;32m<ipython-input-11-20377cb9c189>\u001b[0m in \u001b[0;36m<module>\u001b[1;34m\u001b[0m\n\u001b[1;32m----> 1\u001b[1;33m \u001b[0mannotation_box\u001b[0m\u001b[1;33m.\u001b[0m\u001b[0mto_csv\u001b[0m\u001b[1;33m(\u001b[0m\u001b[1;34m'annotation_box.csv'\u001b[0m\u001b[1;33m)\u001b[0m\u001b[1;33m\u001b[0m\u001b[1;33m\u001b[0m\u001b[0m\n\u001b[0m",
      "\u001b[1;31mNameError\u001b[0m: name 'annotation_box' is not defined"
     ]
    }
   ],
   "source": [
    "#annotation_box.to_csv('annotation_box.csv')"
   ]
  },
  {
   "cell_type": "code",
   "execution_count": 15,
   "metadata": {},
   "outputs": [],
   "source": [
    "annotation_box = pd.read_csv('annotation_box.csv')"
   ]
  },
  {
   "cell_type": "code",
   "execution_count": 16,
   "metadata": {},
   "outputs": [
    {
     "data": {
      "text/html": [
       "<div>\n",
       "<style scoped>\n",
       "    .dataframe tbody tr th:only-of-type {\n",
       "        vertical-align: middle;\n",
       "    }\n",
       "\n",
       "    .dataframe tbody tr th {\n",
       "        vertical-align: top;\n",
       "    }\n",
       "\n",
       "    .dataframe thead th {\n",
       "        text-align: right;\n",
       "    }\n",
       "</style>\n",
       "<table border=\"1\" class=\"dataframe\">\n",
       "  <thead>\n",
       "    <tr style=\"text-align: right;\">\n",
       "      <th></th>\n",
       "      <th>Unnamed: 0</th>\n",
       "      <th>ImageID</th>\n",
       "      <th>Image_height</th>\n",
       "      <th>Image_weight</th>\n",
       "      <th>LabelName</th>\n",
       "      <th>xmax</th>\n",
       "      <th>xmax_raw</th>\n",
       "      <th>xmin</th>\n",
       "      <th>xmin_raw</th>\n",
       "      <th>ymax</th>\n",
       "      <th>ymax_raw</th>\n",
       "      <th>ymin</th>\n",
       "      <th>ymin_raw</th>\n",
       "    </tr>\n",
       "  </thead>\n",
       "  <tbody>\n",
       "    <tr>\n",
       "      <th>0</th>\n",
       "      <td>0</td>\n",
       "      <td>X_ray_2020_1.png</td>\n",
       "      <td>1994.0</td>\n",
       "      <td>2342.0</td>\n",
       "      <td>Knee_0</td>\n",
       "      <td>0.351409</td>\n",
       "      <td>823.0</td>\n",
       "      <td>0.099915</td>\n",
       "      <td>234.0</td>\n",
       "      <td>0.396690</td>\n",
       "      <td>791.0</td>\n",
       "      <td>0.301404</td>\n",
       "      <td>601.0</td>\n",
       "    </tr>\n",
       "    <tr>\n",
       "      <th>1</th>\n",
       "      <td>1</td>\n",
       "      <td>X_ray_2020_1.png</td>\n",
       "      <td>1994.0</td>\n",
       "      <td>2342.0</td>\n",
       "      <td>Knee_1</td>\n",
       "      <td>0.370196</td>\n",
       "      <td>867.0</td>\n",
       "      <td>0.543126</td>\n",
       "      <td>1272.0</td>\n",
       "      <td>0.386660</td>\n",
       "      <td>771.0</td>\n",
       "      <td>0.302909</td>\n",
       "      <td>604.0</td>\n",
       "    </tr>\n",
       "    <tr>\n",
       "      <th>2</th>\n",
       "      <td>2</td>\n",
       "      <td>X_ray_2020_10.png</td>\n",
       "      <td>2384.0</td>\n",
       "      <td>2558.0</td>\n",
       "      <td>Knee_0</td>\n",
       "      <td>0.326818</td>\n",
       "      <td>836.0</td>\n",
       "      <td>0.093041</td>\n",
       "      <td>238.0</td>\n",
       "      <td>0.364933</td>\n",
       "      <td>870.0</td>\n",
       "      <td>0.368289</td>\n",
       "      <td>878.0</td>\n",
       "    </tr>\n",
       "    <tr>\n",
       "      <th>3</th>\n",
       "      <td>3</td>\n",
       "      <td>X_ray_2020_10.png</td>\n",
       "      <td>2384.0</td>\n",
       "      <td>2558.0</td>\n",
       "      <td>Knee_1</td>\n",
       "      <td>0.356529</td>\n",
       "      <td>912.0</td>\n",
       "      <td>0.573104</td>\n",
       "      <td>1466.0</td>\n",
       "      <td>0.401846</td>\n",
       "      <td>958.0</td>\n",
       "      <td>0.339765</td>\n",
       "      <td>810.0</td>\n",
       "    </tr>\n",
       "    <tr>\n",
       "      <th>4</th>\n",
       "      <td>4</td>\n",
       "      <td>X_ray_2020_100.png</td>\n",
       "      <td>2262.0</td>\n",
       "      <td>2447.0</td>\n",
       "      <td>Knee_0</td>\n",
       "      <td>0.328157</td>\n",
       "      <td>803.0</td>\n",
       "      <td>0.086637</td>\n",
       "      <td>212.0</td>\n",
       "      <td>0.388594</td>\n",
       "      <td>879.0</td>\n",
       "      <td>0.347922</td>\n",
       "      <td>787.0</td>\n",
       "    </tr>\n",
       "    <tr>\n",
       "      <th>...</th>\n",
       "      <td>...</td>\n",
       "      <td>...</td>\n",
       "      <td>...</td>\n",
       "      <td>...</td>\n",
       "      <td>...</td>\n",
       "      <td>...</td>\n",
       "      <td>...</td>\n",
       "      <td>...</td>\n",
       "      <td>...</td>\n",
       "      <td>...</td>\n",
       "      <td>...</td>\n",
       "      <td>...</td>\n",
       "      <td>...</td>\n",
       "    </tr>\n",
       "    <tr>\n",
       "      <th>215</th>\n",
       "      <td>215</td>\n",
       "      <td>X_ray_2020_97.png</td>\n",
       "      <td>2344.0</td>\n",
       "      <td>2465.0</td>\n",
       "      <td>Knee_1</td>\n",
       "      <td>0.311562</td>\n",
       "      <td>768.0</td>\n",
       "      <td>0.601623</td>\n",
       "      <td>1483.0</td>\n",
       "      <td>0.405290</td>\n",
       "      <td>950.0</td>\n",
       "      <td>0.379693</td>\n",
       "      <td>890.0</td>\n",
       "    </tr>\n",
       "    <tr>\n",
       "      <th>216</th>\n",
       "      <td>216</td>\n",
       "      <td>X_ray_2020_98.png</td>\n",
       "      <td>2492.0</td>\n",
       "      <td>2592.0</td>\n",
       "      <td>Knee_0</td>\n",
       "      <td>0.305170</td>\n",
       "      <td>791.0</td>\n",
       "      <td>0.129630</td>\n",
       "      <td>336.0</td>\n",
       "      <td>0.428571</td>\n",
       "      <td>1068.0</td>\n",
       "      <td>0.354735</td>\n",
       "      <td>884.0</td>\n",
       "    </tr>\n",
       "    <tr>\n",
       "      <th>217</th>\n",
       "      <td>217</td>\n",
       "      <td>X_ray_2020_98.png</td>\n",
       "      <td>2492.0</td>\n",
       "      <td>2592.0</td>\n",
       "      <td>Knee_1</td>\n",
       "      <td>0.308256</td>\n",
       "      <td>799.0</td>\n",
       "      <td>0.528164</td>\n",
       "      <td>1369.0</td>\n",
       "      <td>0.441413</td>\n",
       "      <td>1100.0</td>\n",
       "      <td>0.359952</td>\n",
       "      <td>897.0</td>\n",
       "    </tr>\n",
       "    <tr>\n",
       "      <th>218</th>\n",
       "      <td>218</td>\n",
       "      <td>X_ray_2020_99.png</td>\n",
       "      <td>1929.0</td>\n",
       "      <td>2382.0</td>\n",
       "      <td>Knee_0</td>\n",
       "      <td>0.326616</td>\n",
       "      <td>778.0</td>\n",
       "      <td>0.166667</td>\n",
       "      <td>397.0</td>\n",
       "      <td>0.483670</td>\n",
       "      <td>933.0</td>\n",
       "      <td>0.322965</td>\n",
       "      <td>623.0</td>\n",
       "    </tr>\n",
       "    <tr>\n",
       "      <th>219</th>\n",
       "      <td>219</td>\n",
       "      <td>X_ray_2020_99.png</td>\n",
       "      <td>1929.0</td>\n",
       "      <td>2382.0</td>\n",
       "      <td>Knee_1</td>\n",
       "      <td>0.343409</td>\n",
       "      <td>818.0</td>\n",
       "      <td>0.571369</td>\n",
       "      <td>1361.0</td>\n",
       "      <td>0.499741</td>\n",
       "      <td>964.0</td>\n",
       "      <td>0.288232</td>\n",
       "      <td>556.0</td>\n",
       "    </tr>\n",
       "  </tbody>\n",
       "</table>\n",
       "<p>220 rows × 13 columns</p>\n",
       "</div>"
      ],
      "text/plain": [
       "     Unnamed: 0             ImageID  Image_height  Image_weight LabelName  \\\n",
       "0             0    X_ray_2020_1.png        1994.0        2342.0    Knee_0   \n",
       "1             1    X_ray_2020_1.png        1994.0        2342.0    Knee_1   \n",
       "2             2   X_ray_2020_10.png        2384.0        2558.0    Knee_0   \n",
       "3             3   X_ray_2020_10.png        2384.0        2558.0    Knee_1   \n",
       "4             4  X_ray_2020_100.png        2262.0        2447.0    Knee_0   \n",
       "..          ...                 ...           ...           ...       ...   \n",
       "215         215   X_ray_2020_97.png        2344.0        2465.0    Knee_1   \n",
       "216         216   X_ray_2020_98.png        2492.0        2592.0    Knee_0   \n",
       "217         217   X_ray_2020_98.png        2492.0        2592.0    Knee_1   \n",
       "218         218   X_ray_2020_99.png        1929.0        2382.0    Knee_0   \n",
       "219         219   X_ray_2020_99.png        1929.0        2382.0    Knee_1   \n",
       "\n",
       "         xmax  xmax_raw      xmin  xmin_raw      ymax  ymax_raw      ymin  \\\n",
       "0    0.351409     823.0  0.099915     234.0  0.396690     791.0  0.301404   \n",
       "1    0.370196     867.0  0.543126    1272.0  0.386660     771.0  0.302909   \n",
       "2    0.326818     836.0  0.093041     238.0  0.364933     870.0  0.368289   \n",
       "3    0.356529     912.0  0.573104    1466.0  0.401846     958.0  0.339765   \n",
       "4    0.328157     803.0  0.086637     212.0  0.388594     879.0  0.347922   \n",
       "..        ...       ...       ...       ...       ...       ...       ...   \n",
       "215  0.311562     768.0  0.601623    1483.0  0.405290     950.0  0.379693   \n",
       "216  0.305170     791.0  0.129630     336.0  0.428571    1068.0  0.354735   \n",
       "217  0.308256     799.0  0.528164    1369.0  0.441413    1100.0  0.359952   \n",
       "218  0.326616     778.0  0.166667     397.0  0.483670     933.0  0.322965   \n",
       "219  0.343409     818.0  0.571369    1361.0  0.499741     964.0  0.288232   \n",
       "\n",
       "     ymin_raw  \n",
       "0       601.0  \n",
       "1       604.0  \n",
       "2       878.0  \n",
       "3       810.0  \n",
       "4       787.0  \n",
       "..        ...  \n",
       "215     890.0  \n",
       "216     884.0  \n",
       "217     897.0  \n",
       "218     623.0  \n",
       "219     556.0  \n",
       "\n",
       "[220 rows x 13 columns]"
      ]
     },
     "execution_count": 16,
     "metadata": {},
     "output_type": "execute_result"
    }
   ],
   "source": [
    "annotation_box"
   ]
  },
  {
   "cell_type": "code",
   "execution_count": 17,
   "metadata": {},
   "outputs": [],
   "source": [
    "rois = annotation_box[annotation_box['ImageID'] == 'X_ray_2020_1.png'][['Image_height','Image_weight','xmin','xmax','ymin','ymax']].reset_index()"
   ]
  },
  {
   "cell_type": "code",
   "execution_count": 18,
   "metadata": {},
   "outputs": [
    {
     "data": {
      "text/html": [
       "<div>\n",
       "<style scoped>\n",
       "    .dataframe tbody tr th:only-of-type {\n",
       "        vertical-align: middle;\n",
       "    }\n",
       "\n",
       "    .dataframe tbody tr th {\n",
       "        vertical-align: top;\n",
       "    }\n",
       "\n",
       "    .dataframe thead th {\n",
       "        text-align: right;\n",
       "    }\n",
       "</style>\n",
       "<table border=\"1\" class=\"dataframe\">\n",
       "  <thead>\n",
       "    <tr style=\"text-align: right;\">\n",
       "      <th></th>\n",
       "      <th>index</th>\n",
       "      <th>Image_height</th>\n",
       "      <th>Image_weight</th>\n",
       "      <th>xmin</th>\n",
       "      <th>xmax</th>\n",
       "      <th>ymin</th>\n",
       "      <th>ymax</th>\n",
       "    </tr>\n",
       "  </thead>\n",
       "  <tbody>\n",
       "    <tr>\n",
       "      <th>0</th>\n",
       "      <td>0</td>\n",
       "      <td>1994.0</td>\n",
       "      <td>2342.0</td>\n",
       "      <td>0.099915</td>\n",
       "      <td>0.351409</td>\n",
       "      <td>0.301404</td>\n",
       "      <td>0.39669</td>\n",
       "    </tr>\n",
       "    <tr>\n",
       "      <th>1</th>\n",
       "      <td>1</td>\n",
       "      <td>1994.0</td>\n",
       "      <td>2342.0</td>\n",
       "      <td>0.543126</td>\n",
       "      <td>0.370196</td>\n",
       "      <td>0.302909</td>\n",
       "      <td>0.38666</td>\n",
       "    </tr>\n",
       "  </tbody>\n",
       "</table>\n",
       "</div>"
      ],
      "text/plain": [
       "   index  Image_height  Image_weight      xmin      xmax      ymin     ymax\n",
       "0      0        1994.0        2342.0  0.099915  0.351409  0.301404  0.39669\n",
       "1      1        1994.0        2342.0  0.543126  0.370196  0.302909  0.38666"
      ]
     },
     "execution_count": 18,
     "metadata": {},
     "output_type": "execute_result"
    }
   ],
   "source": [
    "rois"
   ]
  },
  {
   "cell_type": "code",
   "execution_count": 30,
   "metadata": {},
   "outputs": [
    {
     "name": "stdout",
     "output_type": "stream",
     "text": [
      "X_ray_2020_1.png 435.0 801.0 632.9999999999999 663.0000000000001\n",
      "X_ray_2020_1.png 1320.0 805.0 639.0 739.0\n"
     ]
    }
   ],
   "source": [
    "for i in [images[3]]:\n",
    "    img = cv2.imread(i)\n",
    "    cv2.namedWindow(\"img\",2)\n",
    "    cv2.resizeWindow('img', 600,600)\n",
    "    rois = annotation_box[annotation_box['ImageID'] == i][['Image_height','Image_weight','xmin','xmax','ymin','ymax']].reset_index()\n",
    "    if len(rois) == 0:\n",
    "        break\n",
    "\n",
    "    for r in range(len(rois)):\n",
    "        xmin = rois['xmin'][r] * rois['Image_weight'][r]\n",
    "        xmax = rois['xmax'][r] * rois['Image_weight'][r]\n",
    "        ymin = rois['ymin'][r] * rois['Image_height'][r]\n",
    "        ymax = rois['ymax'][r] * rois['Image_height'][r]\n",
    "        print(images[0], xmin, xmax, ymin, ymax)\n",
    "        #print(xmin, xmax, ymin, ymax)\n",
    "        cv2.rectangle(img, (int(xmin), int(ymax)), (int(xmin+xmax), int(ymin+ymax)), (0,0,255), 5)\n",
    "    cv2.imshow('img', img)\n",
    "    cv2.waitKey()\n",
    "    cv2.destroyAllWindows()"
   ]
  },
  {
   "cell_type": "code",
   "execution_count": null,
   "metadata": {},
   "outputs": [],
   "source": []
  }
 ],
 "metadata": {
  "kernelspec": {
   "display_name": "Python 3",
   "language": "python",
   "name": "python3"
  },
  "language_info": {
   "codemirror_mode": {
    "name": "ipython",
    "version": 3
   },
   "file_extension": ".py",
   "mimetype": "text/x-python",
   "name": "python",
   "nbconvert_exporter": "python",
   "pygments_lexer": "ipython3",
   "version": "3.8.5"
  }
 },
 "nbformat": 4,
 "nbformat_minor": 4
}
