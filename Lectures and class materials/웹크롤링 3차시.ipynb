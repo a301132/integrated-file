{
 "cells": [
  {
   "cell_type": "markdown",
   "metadata": {},
   "source": [
    "# 3차시"
   ]
  },
  {
   "cell_type": "markdown",
   "metadata": {},
   "source": [
    "## 동적 웹크롤링"
   ]
  },
  {
   "cell_type": "markdown",
   "metadata": {},
   "source": [
    "#### 동적 웹크롤링이란 웹사이트와 상호작용을 하면서 데이터를 수집합니다.\n",
    "#### 버튼의 클릭 또는 검색어를 넣어 검색한 후 데이터를 크롤링합니다.\n"
   ]
  },
  {
   "cell_type": "markdown",
   "metadata": {},
   "source": [
    "#### 동적 웹크롤링을 하기위해서 필요한 소프트웨어가 있습니다."
   ]
  },
  {
   "cell_type": "markdown",
   "metadata": {},
   "source": [
    "#### 사용할 브라우저는 크롬을 사용하여 동적 웹크롤링을 하기 위해서는 chrome driver를 설치하여야 합니다."
   ]
  },
  {
   "cell_type": "markdown",
   "metadata": {},
   "source": [
    "#### 구글에 \"Chromedriver download\"라고 치시면 첫번째 사이트에 들어가셔서 다운로드 해주시면 됩니다.\n",
    "#### 여기서 주의할 점은 현재 사용하고 있는 피시의 Chrome의 버전을 확인해야 합니다.\n",
    "#### Chrome 버전을 확인하는 방법은 Chrome 웹브라우저의 우측상단에 점3개 있는 것을 클릭하시고 설정에 들어갑니다.\n",
    "#### 그리고 좌측에 보이는 Chrome 정보를 클릭합니다.\n",
    "#### 그렇다면 Chrome 버전이 89.xxxx.xx이라고 보입니다.  (앞의 두자리에 맞춰서 다운로드 하시면 됩니다.)\n",
    "#### 그 버전에 맞춰서 Chromedriver download를 클릭하고 window 또는 Mac , linux 사용환경에 맞춰서 다운로드하고 압축을 풀어줍니다."
   ]
  },
  {
   "cell_type": "markdown",
   "metadata": {},
   "source": [
    "#### 그리고 원하시는 폴더에 압축해제된 파일을 옮기시면 됩니다."
   ]
  },
  {
   "cell_type": "markdown",
   "metadata": {},
   "source": [
    "#### 자 그리고 필요한 Package를 다운로드 하겠습니다."
   ]
  },
  {
   "cell_type": "code",
   "execution_count": null,
   "metadata": {},
   "outputs": [],
   "source": [
    "'''pip 함수를 사용하여 selenium package를 다운로드 합니다.'''\n",
    "!pip install selenium"
   ]
  },
  {
   "cell_type": "code",
   "execution_count": 1,
   "metadata": {},
   "outputs": [],
   "source": [
    "'''다운로드가 잘 되었는지 import를 해봅니다.'''\n",
    "import selenium"
   ]
  },
  {
   "cell_type": "code",
   "execution_count": 12,
   "metadata": {},
   "outputs": [],
   "source": [
    "''' Chromedriver를 다운로드 하였으니 사용하겠습니다.'''\n",
    "''' selenium 하위에 모듈을 import합니다.'''\n",
    "''' 이런 과정이 싫으신 분들은 selenium.webdriver() 형식으로 사용하셔도 됩니다.'''\n",
    "from selenium import webdriver\n",
    "'''chromdriver가 설치된 경로를 불러와줍니다.'''\n",
    "path = 'C:\\\\Users\\\\a3011\\\\Downloads\\\\chromedriver_win32\\\\chromedriver.exe'\n",
    "driver = webdriver.Chrome(path)"
   ]
  },
  {
   "cell_type": "markdown",
   "metadata": {},
   "source": [
    "#### 위의 코드를 실행하게 되시면 chrome이 열리는 것을 확인할 수 있습니다.\n",
    "#### 우리는 이제 코드를 통하여 열린 chrome 창을 실행시킬 것입니다."
   ]
  },
  {
   "cell_type": "code",
   "execution_count": 19,
   "metadata": {},
   "outputs": [],
   "source": [
    "'''구글사이트로 먼저 이동해봅시다.'''\n",
    "driver.get(\"https://www.google.com\")"
   ]
  },
  {
   "cell_type": "code",
   "execution_count": 21,
   "metadata": {},
   "outputs": [],
   "source": [
    "'''구글사이트에서 검색을 해봅니다.'''\n",
    "'''개발자도구에서 검색창을 클릭하고 copy xpath를 합니다. 그리고 그 값들을 아래의 함수에 넣어줍니다.'''\n",
    "ele=driver.find_element_by_xpath('/html/body/div[1]/div[3]/form/div[1]/div[1]/div[1]/div/div[2]/input')\n",
    "'''저 검색창에 검색어를 보내는 키입니다.'''\n",
    "ele.send_keys('경상대학교')\n",
    "'''아래의 코드는 키보드에서 엔터를 치는 것과 같은 방식으로 작동합니다.'''\n",
    "ele.submit()"
   ]
  },
  {
   "cell_type": "markdown",
   "metadata": {},
   "source": [
    "#### 그러면 구글에서 \"경상대학교\"가 검색 된 것을 확인할 수 있습니다.\n",
    "#### 자 이제 이미지를 한번 보겠습니다."
   ]
  },
  {
   "cell_type": "code",
   "execution_count": 22,
   "metadata": {},
   "outputs": [],
   "source": [
    "'''위와 똑같은 방식으로 xpath를 복사해주고 아래의 코드에 넣어줍니다.'''\n",
    "ele2 = driver.find_element_by_xpath('//*[@id=\"hdtb-msb\"]/div[1]/div/div[3]/a')\n",
    "'''아래의 코드는 위 요소를 마우스로 클릭하는 것처럼 효과를 줍니다.'''\n",
    "ele2.click()"
   ]
  },
  {
   "cell_type": "markdown",
   "metadata": {},
   "source": [
    "#### 이미지페이지로 넘어가는 것을 확인할 수 있습니다.\n",
    "#### 다시 전체 검색을 한 후 경상대학교 나무위키로 들어가 보겠습니다."
   ]
  },
  {
   "cell_type": "code",
   "execution_count": 23,
   "metadata": {},
   "outputs": [],
   "source": [
    "ele3 = driver.find_element_by_xpath('//*[@id=\"yDmH0d\"]/div[2]/c-wiz/div[1]/div/div[1]/div[1]/div/div/a[1]')\n",
    "ele3.click()"
   ]
  },
  {
   "cell_type": "code",
   "execution_count": 25,
   "metadata": {},
   "outputs": [],
   "source": [
    "ele4 = driver.find_element_by_xpath('//*[@id=\"rso\"]/div/div[4]/div/div[1]/a/h3')\n",
    "ele4.click()"
   ]
  },
  {
   "cell_type": "markdown",
   "metadata": {},
   "source": [
    "#### 이렇게 코드를 주면서 상호작용을 할 수 있습니다.\n",
    "#### 그리고 정적 웹크롤링에서 배운 파싱을 통하여 이동한 웹페이지를 파싱할 수 있습니다."
   ]
  },
  {
   "cell_type": "code",
   "execution_count": 30,
   "metadata": {},
   "outputs": [
    {
     "name": "stdout",
     "output_type": "stream",
     "text": [
      "경상대학교\n",
      "Gyeongsang National University\n",
      "\n",
      "\n",
      "경상대학교 정문\n",
      "표어 경남에서 세계를 선도하는 명문대학 The best GNU\n",
      "종류 국립\n",
      "종합대학\n",
      "설립 1948년\n",
      "총장 권순기\n",
      "학부생 수 재학생(A) 13,021명(2020년 기준), 휴학생(B) 5,259명(2020년 기준), 재적학생(A+B) 18,280명(2020년 기준)\n",
      "대학원생 수 3,596명(2015년 기준)\n",
      "교직원 수 1,683명 (2014.04)\n",
      "국가 대한민국\n",
      "위치 가좌캠퍼스\n",
      "경상남도 진주시 진주대로 501\n",
      "칠암캠퍼스\n",
      "경상남도 진주시 진주대로816번길 15\n",
      "통영캠퍼스\n",
      "경상남도 통영시 천대국치길 38\n",
      "창원캠퍼스\n",
      "경상남도 창원시 의창구 차룡로 48번길 54\n",
      "규모 4캠퍼스, 13대학, 9대학원\n",
      "상징물 동물: 사자\n",
      "나무: 느티나무\n",
      "웹사이트 경상대학교 홈페이지\n",
      "Wikimedia | © OpenStreetMap\n",
      "경상대학교의 위치\n"
     ]
    }
   ],
   "source": [
    "'오른쪽에 있는 표를 파싱해옵니다.'\n",
    "ele5 = driver.find_element_by_xpath('//*[@id=\"mw-content-text\"]/div[1]/table[1]')\n",
    "print(ele5.text)"
   ]
  },
  {
   "cell_type": "markdown",
   "metadata": {},
   "source": [
    "#### 저희는 이제 코드를 통해서 정적, 동적 웹크롤링을 할 수 있습니다."
   ]
  },
  {
   "cell_type": "markdown",
   "metadata": {},
   "source": [
    "#### 크롤링이라는 것을 배운 이유는 저희가 웹에 들어가서 일일이 단순노동을 하여 캡쳐하고 필요한 것들을\n",
    "#### 긁어와서 할 수는 있지만 그것이 수 천개 또는 수 만개의 웹페이지에 들어가서 하는 것이라면, \n",
    "#### 많은 시간들을 사용해야 되며, 효율적으로 진행할 수 없습니다.\n",
    "#### 그래서 코드를 작성하여 컴퓨터가 알아서 데이터를 크롤링하기 위해 지금까지 크롤링의 기초를 배웠습니다.\n"
   ]
  },
  {
   "cell_type": "markdown",
   "metadata": {},
   "source": [
    "#### 다음 수업부터는 반복문과 조건문을 통해 컴퓨터가 반복적으로 자료를 수집하는 알고리즘을 만들고 그 데이터를 저장하는 방식을 배우겠습니다."
   ]
  },
  {
   "cell_type": "markdown",
   "metadata": {},
   "source": []
  },
  {
   "cell_type": "markdown",
   "metadata": {},
   "source": []
  },
  {
   "cell_type": "markdown",
   "metadata": {},
   "source": []
  },
  {
   "cell_type": "markdown",
   "metadata": {},
   "source": []
  },
  {
   "cell_type": "markdown",
   "metadata": {},
   "source": []
  },
  {
   "cell_type": "markdown",
   "metadata": {},
   "source": []
  },
  {
   "cell_type": "markdown",
   "metadata": {},
   "source": []
  },
  {
   "cell_type": "markdown",
   "metadata": {},
   "source": []
  },
  {
   "cell_type": "markdown",
   "metadata": {},
   "source": []
  },
  {
   "cell_type": "markdown",
   "metadata": {},
   "source": []
  },
  {
   "cell_type": "markdown",
   "metadata": {},
   "source": []
  },
  {
   "cell_type": "markdown",
   "metadata": {},
   "source": []
  },
  {
   "cell_type": "markdown",
   "metadata": {},
   "source": []
  },
  {
   "cell_type": "markdown",
   "metadata": {},
   "source": []
  },
  {
   "cell_type": "markdown",
   "metadata": {},
   "source": []
  },
  {
   "cell_type": "markdown",
   "metadata": {},
   "source": []
  },
  {
   "cell_type": "markdown",
   "metadata": {},
   "source": []
  },
  {
   "cell_type": "markdown",
   "metadata": {},
   "source": []
  }
 ],
 "metadata": {
  "kernelspec": {
   "display_name": "Python 3",
   "language": "python",
   "name": "python3"
  },
  "language_info": {
   "codemirror_mode": {
    "name": "ipython",
    "version": 3
   },
   "file_extension": ".py",
   "mimetype": "text/x-python",
   "name": "python",
   "nbconvert_exporter": "python",
   "pygments_lexer": "ipython3",
   "version": "3.8.5"
  }
 },
 "nbformat": 4,
 "nbformat_minor": 4
}
