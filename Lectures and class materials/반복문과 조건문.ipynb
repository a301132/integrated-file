{
 "cells": [
  {
   "cell_type": "markdown",
   "metadata": {},
   "source": [
    "# 반복문과 조건문\n",
    "#### 반복문과 조건문은 자동화 알고리즘을 구성하기 위해서 필수적으로 알아야 됩니다.\n",
    "#### 그러므로 여기서는 간단한 예제 알고리즘을 통해 설명하겠습니다."
   ]
  },
  {
   "cell_type": "markdown",
   "metadata": {},
   "source": [
    "# 반복문"
   ]
  },
  {
   "cell_type": "markdown",
   "metadata": {},
   "source": [
    "#### for 반복문일 경우 in 뒤에 넣어주는 값만큼 반복을 시행한다.\n",
    "#### while문은 while (조건): 조건이 False가 될 때까지 진행한다."
   ]
  },
  {
   "cell_type": "markdown",
   "metadata": {},
   "source": [
    "## for 문"
   ]
  },
  {
   "cell_type": "code",
   "execution_count": 2,
   "metadata": {},
   "outputs": [
    {
     "data": {
      "text/plain": [
       "(['a', 'b', 'c', 'd', 'e'], [0, 1, 2, 3, 4])"
      ]
     },
     "execution_count": 2,
     "metadata": {},
     "output_type": "execute_result"
    }
   ],
   "source": [
    "'''반복문에 사용할 데이터를 만들어 줍니다.'''\n",
    "data=['a','b','c','d','e']\n",
    "idx = list(range(0,5))\n",
    "data, idx"
   ]
  },
  {
   "cell_type": "code",
   "execution_count": 3,
   "metadata": {},
   "outputs": [
    {
     "name": "stdout",
     "output_type": "stream",
     "text": [
      "a\n",
      "b\n",
      "c\n",
      "d\n",
      "e\n"
     ]
    }
   ],
   "source": [
    "'''반복문의 효과를 확인합니다.'''\n",
    "for i in idx:\n",
    "    print(data[i])"
   ]
  },
  {
   "cell_type": "code",
   "execution_count": 4,
   "metadata": {},
   "outputs": [],
   "source": [
    "'''Python의 dictonary라는 객체를 만들어줍니다.'''\n",
    "dict_data ={'a':'apple','b':'banana','c':'coffee','d':'dragon','e': 'elephant'}"
   ]
  },
  {
   "cell_type": "code",
   "execution_count": 14,
   "metadata": {},
   "outputs": [
    {
     "name": "stdout",
     "output_type": "stream",
     "text": [
      "0 apple\n",
      "0 apple\n",
      "0 apple\n",
      "1 banana\n",
      "1 banana\n",
      "1 banana\n",
      "2 coffee\n",
      "2 coffee\n",
      "2 coffee\n",
      "3 dragon\n",
      "3 dragon\n",
      "3 dragon\n",
      "4 elephant\n",
      "4 elephant\n",
      "4 elephant\n"
     ]
    }
   ],
   "source": [
    "'''이중 반복문을 확인합니다.'''\n",
    "for i in idx:\n",
    "    keys=data[i]\n",
    "    for j in [0,1,2]:\n",
    "        print(i,dict_data[keys])"
   ]
  },
  {
   "cell_type": "markdown",
   "metadata": {},
   "source": [
    "## while 문"
   ]
  },
  {
   "cell_type": "code",
   "execution_count": 9,
   "metadata": {},
   "outputs": [
    {
     "name": "stdout",
     "output_type": "stream",
     "text": [
      "1\n",
      "2\n",
      "3\n",
      "4\n",
      "5\n"
     ]
    }
   ],
   "source": [
    "'''while문을 확인합니다.'''\n",
    "i=0\n",
    "while i<5:\n",
    "    i=i+1\n",
    "    print(i)"
   ]
  },
  {
   "cell_type": "code",
   "execution_count": 10,
   "metadata": {},
   "outputs": [
    {
     "name": "stdout",
     "output_type": "stream",
     "text": [
      "2 X 1 = 2\n",
      "2 X 2 = 4\n",
      "2 X 3 = 6\n",
      "2 X 4 = 8\n",
      "2 X 5 = 10\n",
      "2 X 6 = 12\n",
      "2 X 7 = 14\n",
      "2 X 8 = 16\n",
      "2 X 9 = 18\n"
     ]
    }
   ],
   "source": [
    "'''while문을 확인합니다.'''\n",
    "i=0\n",
    "while i<9:\n",
    "    i=i+1\n",
    "    print('2','X',i,'=',i*2)"
   ]
  },
  {
   "cell_type": "code",
   "execution_count": 13,
   "metadata": {},
   "outputs": [
    {
     "name": "stdout",
     "output_type": "stream",
     "text": [
      "1 1\n",
      "1 2\n",
      "1 3\n",
      "2 1\n",
      "2 2\n",
      "2 3\n",
      "3 1\n",
      "3 2\n",
      "3 3\n",
      "4 1\n",
      "4 2\n",
      "4 3\n",
      "5 1\n",
      "5 2\n",
      "5 3\n"
     ]
    }
   ],
   "source": [
    "'''while문과 for문을 섞어 사용합니다.'''\n",
    "i=0\n",
    "num = [1,2,3]\n",
    "while i <5:\n",
    "    i=i+1\n",
    "    for j in num:\n",
    "        print(i,j)"
   ]
  },
  {
   "cell_type": "markdown",
   "metadata": {},
   "source": [
    "# 조건문"
   ]
  },
  {
   "cell_type": "markdown",
   "metadata": {},
   "source": [
    "#### 조건문은 if (조건): 조건이 True이면 if아래 코드가 작동한다."
   ]
  },
  {
   "cell_type": "markdown",
   "metadata": {},
   "source": [
    "## if 문"
   ]
  },
  {
   "cell_type": "code",
   "execution_count": 18,
   "metadata": {},
   "outputs": [
    {
     "name": "stdout",
     "output_type": "stream",
     "text": [
      "사자다!!!!\n",
      "코끼리도 있다!!\n",
      "하마도 있네!\n"
     ]
    }
   ],
   "source": [
    "names = ['사자','코끼리','하마','침팬치','개','고양이']\n",
    "if '사자' in names:\n",
    "    print('사자다!!!!')\n",
    "if '코끼리' in names:\n",
    "    print('코끼리도 있다!!')\n",
    "if '하마' in names:\n",
    "    print('하마도 있네!')\n",
    "if '표범' in names:\n",
    "    print('표범도 있네!!')"
   ]
  },
  {
   "cell_type": "markdown",
   "metadata": {},
   "source": [
    "## if ~else 문"
   ]
  },
  {
   "cell_type": "code",
   "execution_count": 19,
   "metadata": {},
   "outputs": [
    {
     "name": "stdout",
     "output_type": "stream",
     "text": [
      "사자다!!!!\n",
      "코끼리도 있다!!\n",
      "하마도 있네!\n",
      "표범 없어...\n"
     ]
    }
   ],
   "source": [
    "names = ['사자','코끼리','하마','침팬치','개','고양이']\n",
    "if '사자' in names:\n",
    "    print('사자다!!!!')\n",
    "else:\n",
    "    print('사자가 없네')\n",
    "if '코끼리' in names:\n",
    "    print('코끼리도 있다!!')\n",
    "else:\n",
    "    print('코끼리 없네...')\n",
    "if '하마' in names:\n",
    "    print('하마도 있네!')\n",
    "else:\n",
    "    print('하마 없어...')\n",
    "if '표범' in names:\n",
    "    print('표범도 있네!!')\n",
    "else:\n",
    "    print('표범 없어...')"
   ]
  },
  {
   "cell_type": "markdown",
   "metadata": {},
   "source": [
    "## elif 문"
   ]
  },
  {
   "cell_type": "code",
   "execution_count": 23,
   "metadata": {},
   "outputs": [
    {
     "name": "stdout",
     "output_type": "stream",
     "text": [
      "사자다!!!!\n"
     ]
    }
   ],
   "source": [
    "names = ['사자','코끼리','하마','침팬치','개','고양이']\n",
    "if '사자' in names:\n",
    "    print('사자다!!!!')\n",
    "elif '코끼리' in names:\n",
    "    print('코끼리도 있다!!')\n",
    "elif '하마' in names:\n",
    "    print('하마도 있네!')\n",
    "elif '표범' in names:\n",
    "    print('표범도 있네!!')\n",
    "else:\n",
    "    print('동물원에 사자,코끼리,하마,표범 없어...')"
   ]
  },
  {
   "cell_type": "code",
   "execution_count": 25,
   "metadata": {},
   "outputs": [
    {
     "name": "stdout",
     "output_type": "stream",
     "text": [
      "사자다!!!!\n",
      "코끼리도 있다!!\n",
      "하마도 있네!\n",
      "동물원에 사자,코끼리,하마,표범 없어...\n"
     ]
    }
   ],
   "source": [
    "names = ['사자','코끼리','하마','침팬치','개','고양이']\n",
    "if '사자' in names:\n",
    "    print('사자다!!!!')\n",
    "    if '코끼리' in names:\n",
    "        print('코끼리도 있다!!')\n",
    "        if '하마' in names:\n",
    "            print('하마도 있네!')\n",
    "            if '표범' in names:\n",
    "                print('표범도 있네!!')\n",
    "            else:\n",
    "                print('동물원에 사자,코끼리,하마,표범 없어...')"
   ]
  },
  {
   "cell_type": "markdown",
   "metadata": {},
   "source": [
    "## 반복문 + 조건문\n",
    "#### 이 문장이 어떻게 작동하는지 알기만 한다면 조건문과 반복문을 거의 이해한 것이다."
   ]
  },
  {
   "cell_type": "code",
   "execution_count": 39,
   "metadata": {
    "scrolled": true
   },
   "outputs": [
    {
     "name": "stdout",
     "output_type": "stream",
     "text": [
      "1 X 1 = 1\n",
      "1 X 2 = 2\n",
      "1 X 3 = 3\n",
      "1 X 4 = 4\n",
      "1 X 5 = 5\n",
      "1 X 6 = 6\n",
      "1 X 7 = 7\n",
      "1 X 8 = 8\n",
      "1 X 9 = 9\n",
      "1 X 10 = 10\n",
      "1 X 11 = 11\n",
      "1 X 12 = 12\n",
      "1 X 13 = 13\n",
      "1 X 14 = 14\n",
      "1 X 15 = 15\n",
      "1 X 16 = 16\n",
      "1 X 17 = 17\n",
      "1 X 18 = 18\n",
      "1 X 19 = 19\n",
      "1구구단에서 나온 값들 중 소수는 :  2 이다.\n",
      "1구구단에서 나온 값들 중 소수는 :  3 이다.\n",
      "1구구단에서 나온 값들 중 소수는 :  5 이다.\n",
      "1구구단에서 나온 값들 중 소수는 :  7 이다.\n",
      "1구구단에서 나온 값들 중 소수는 :  11 이다.\n",
      "1구구단에서 나온 값들 중 소수는 :  13 이다.\n",
      "1구구단에서 나온 값들 중 소수는 :  17 이다.\n",
      "1구구단에서 나온 값들 중 소수는 :  19 이다.\n",
      "2 X 1 = 2\n",
      "2 X 2 = 4\n",
      "2 X 3 = 6\n",
      "2 X 4 = 8\n",
      "2 X 5 = 10\n",
      "2 X 6 = 12\n",
      "2 X 7 = 14\n",
      "2 X 8 = 16\n",
      "2 X 9 = 18\n",
      "2 X 10 = 20\n",
      "2 X 11 = 22\n",
      "2 X 12 = 24\n",
      "2 X 13 = 26\n",
      "2 X 14 = 28\n",
      "2 X 15 = 30\n",
      "2 X 16 = 32\n",
      "2 X 17 = 34\n",
      "2 X 18 = 36\n",
      "2 X 19 = 38\n",
      "2구구단에서 나온 값들 중 소수는 :  2 이다.\n",
      "3 X 1 = 3\n",
      "3 X 2 = 6\n",
      "3 X 3 = 9\n",
      "3 X 4 = 12\n",
      "3 X 5 = 15\n",
      "3 X 6 = 18\n",
      "3 X 7 = 21\n",
      "3 X 8 = 24\n",
      "3 X 9 = 27\n",
      "3 X 10 = 30\n",
      "3 X 11 = 33\n",
      "3 X 12 = 36\n",
      "3 X 13 = 39\n",
      "3 X 14 = 42\n",
      "3 X 15 = 45\n",
      "3 X 16 = 48\n",
      "3 X 17 = 51\n",
      "3 X 18 = 54\n",
      "3 X 19 = 57\n",
      "3구구단에서 나온 값들 중 소수는 :  3 이다.\n",
      "4 X 1 = 4\n",
      "4 X 2 = 8\n",
      "4 X 3 = 12\n",
      "4 X 4 = 16\n",
      "4 X 5 = 20\n",
      "4 X 6 = 24\n",
      "4 X 7 = 28\n",
      "4 X 8 = 32\n",
      "4 X 9 = 36\n",
      "4 X 10 = 40\n",
      "4 X 11 = 44\n",
      "4 X 12 = 48\n",
      "4 X 13 = 52\n",
      "4 X 14 = 56\n",
      "4 X 15 = 60\n",
      "4 X 16 = 64\n",
      "4 X 17 = 68\n",
      "4 X 18 = 72\n",
      "4 X 19 = 76\n",
      "5 X 1 = 5\n",
      "5 X 2 = 10\n",
      "5 X 3 = 15\n",
      "5 X 4 = 20\n",
      "5 X 5 = 25\n",
      "5 X 6 = 30\n",
      "5 X 7 = 35\n",
      "5 X 8 = 40\n",
      "5 X 9 = 45\n",
      "5 X 10 = 50\n",
      "5 X 11 = 55\n",
      "5 X 12 = 60\n",
      "5 X 13 = 65\n",
      "5 X 14 = 70\n",
      "5 X 15 = 75\n",
      "5 X 16 = 80\n",
      "5 X 17 = 85\n",
      "5 X 18 = 90\n",
      "5 X 19 = 95\n",
      "5구구단에서 나온 값들 중 소수는 :  5 이다.\n",
      "6 X 1 = 6\n",
      "6 X 2 = 12\n",
      "6 X 3 = 18\n",
      "6 X 4 = 24\n",
      "6 X 5 = 30\n",
      "6 X 6 = 36\n",
      "6 X 7 = 42\n",
      "6 X 8 = 48\n",
      "6 X 9 = 54\n",
      "6 X 10 = 60\n",
      "6 X 11 = 66\n",
      "6 X 12 = 72\n",
      "6 X 13 = 78\n",
      "6 X 14 = 84\n",
      "6 X 15 = 90\n",
      "6 X 16 = 96\n",
      "6 X 17 = 102\n",
      "6 X 18 = 108\n",
      "6 X 19 = 114\n",
      "7 X 1 = 7\n",
      "7 X 2 = 14\n",
      "7 X 3 = 21\n",
      "7 X 4 = 28\n",
      "7 X 5 = 35\n",
      "7 X 6 = 42\n",
      "7 X 7 = 49\n",
      "7 X 8 = 56\n",
      "7 X 9 = 63\n",
      "7 X 10 = 70\n",
      "7 X 11 = 77\n",
      "7 X 12 = 84\n",
      "7 X 13 = 91\n",
      "7 X 14 = 98\n",
      "7 X 15 = 105\n",
      "7 X 16 = 112\n",
      "7 X 17 = 119\n",
      "7 X 18 = 126\n",
      "7 X 19 = 133\n",
      "7구구단에서 나온 값들 중 소수는 :  7 이다.\n",
      "8 X 1 = 8\n",
      "8 X 2 = 16\n",
      "8 X 3 = 24\n",
      "8 X 4 = 32\n",
      "8 X 5 = 40\n",
      "8 X 6 = 48\n",
      "8 X 7 = 56\n",
      "8 X 8 = 64\n",
      "8 X 9 = 72\n",
      "8 X 10 = 80\n",
      "8 X 11 = 88\n",
      "8 X 12 = 96\n",
      "8 X 13 = 104\n",
      "8 X 14 = 112\n",
      "8 X 15 = 120\n",
      "8 X 16 = 128\n",
      "8 X 17 = 136\n",
      "8 X 18 = 144\n",
      "8 X 19 = 152\n",
      "9 X 1 = 9\n",
      "9 X 2 = 18\n",
      "9 X 3 = 27\n",
      "9 X 4 = 36\n",
      "9 X 5 = 45\n",
      "9 X 6 = 54\n",
      "9 X 7 = 63\n",
      "9 X 8 = 72\n",
      "9 X 9 = 81\n",
      "9 X 10 = 90\n",
      "9 X 11 = 99\n",
      "9 X 12 = 108\n",
      "9 X 13 = 117\n",
      "9 X 14 = 126\n",
      "9 X 15 = 135\n",
      "9 X 16 = 144\n",
      "9 X 17 = 153\n",
      "9 X 18 = 162\n",
      "9 X 19 = 171\n",
      "10 X 1 = 10\n",
      "10 X 2 = 20\n",
      "10 X 3 = 30\n",
      "10 X 4 = 40\n",
      "10 X 5 = 50\n",
      "10 X 6 = 60\n",
      "10 X 7 = 70\n",
      "10 X 8 = 80\n",
      "10 X 9 = 90\n",
      "10 X 10 = 100\n",
      "10 X 11 = 110\n",
      "10 X 12 = 120\n",
      "10 X 13 = 130\n",
      "10 X 14 = 140\n",
      "10 X 15 = 150\n",
      "10 X 16 = 160\n",
      "10 X 17 = 170\n",
      "10 X 18 = 180\n",
      "10 X 19 = 190\n",
      "11 X 1 = 11\n",
      "11 X 2 = 22\n",
      "11 X 3 = 33\n",
      "11 X 4 = 44\n",
      "11 X 5 = 55\n",
      "11 X 6 = 66\n",
      "11 X 7 = 77\n",
      "11 X 8 = 88\n",
      "11 X 9 = 99\n",
      "11 X 10 = 110\n",
      "11 X 11 = 121\n",
      "11 X 12 = 132\n",
      "11 X 13 = 143\n",
      "11 X 14 = 154\n",
      "11 X 15 = 165\n",
      "11 X 16 = 176\n",
      "11 X 17 = 187\n",
      "11 X 18 = 198\n",
      "11 X 19 = 209\n",
      "11구구단에서 나온 값들 중 소수는 :  11 이다.\n",
      "12 X 1 = 12\n",
      "12 X 2 = 24\n",
      "12 X 3 = 36\n",
      "12 X 4 = 48\n",
      "12 X 5 = 60\n",
      "12 X 6 = 72\n",
      "12 X 7 = 84\n",
      "12 X 8 = 96\n",
      "12 X 9 = 108\n",
      "12 X 10 = 120\n",
      "12 X 11 = 132\n",
      "12 X 12 = 144\n",
      "12 X 13 = 156\n",
      "12 X 14 = 168\n",
      "12 X 15 = 180\n",
      "12 X 16 = 192\n",
      "12 X 17 = 204\n",
      "12 X 18 = 216\n",
      "12 X 19 = 228\n",
      "13 X 1 = 13\n",
      "13 X 2 = 26\n",
      "13 X 3 = 39\n",
      "13 X 4 = 52\n",
      "13 X 5 = 65\n",
      "13 X 6 = 78\n",
      "13 X 7 = 91\n",
      "13 X 8 = 104\n",
      "13 X 9 = 117\n",
      "13 X 10 = 130\n",
      "13 X 11 = 143\n",
      "13 X 12 = 156\n",
      "13 X 13 = 169\n",
      "13 X 14 = 182\n",
      "13 X 15 = 195\n",
      "13 X 16 = 208\n",
      "13 X 17 = 221\n",
      "13 X 18 = 234\n",
      "13 X 19 = 247\n",
      "13구구단에서 나온 값들 중 소수는 :  13 이다.\n",
      "14 X 1 = 14\n",
      "14 X 2 = 28\n",
      "14 X 3 = 42\n",
      "14 X 4 = 56\n",
      "14 X 5 = 70\n",
      "14 X 6 = 84\n",
      "14 X 7 = 98\n",
      "14 X 8 = 112\n",
      "14 X 9 = 126\n",
      "14 X 10 = 140\n",
      "14 X 11 = 154\n",
      "14 X 12 = 168\n",
      "14 X 13 = 182\n",
      "14 X 14 = 196\n",
      "14 X 15 = 210\n",
      "14 X 16 = 224\n",
      "14 X 17 = 238\n",
      "14 X 18 = 252\n",
      "14 X 19 = 266\n",
      "15 X 1 = 15\n",
      "15 X 2 = 30\n",
      "15 X 3 = 45\n",
      "15 X 4 = 60\n",
      "15 X 5 = 75\n",
      "15 X 6 = 90\n",
      "15 X 7 = 105\n",
      "15 X 8 = 120\n",
      "15 X 9 = 135\n",
      "15 X 10 = 150\n",
      "15 X 11 = 165\n",
      "15 X 12 = 180\n",
      "15 X 13 = 195\n",
      "15 X 14 = 210\n",
      "15 X 15 = 225\n",
      "15 X 16 = 240\n",
      "15 X 17 = 255\n",
      "15 X 18 = 270\n",
      "15 X 19 = 285\n",
      "16 X 1 = 16\n",
      "16 X 2 = 32\n",
      "16 X 3 = 48\n",
      "16 X 4 = 64\n",
      "16 X 5 = 80\n",
      "16 X 6 = 96\n",
      "16 X 7 = 112\n",
      "16 X 8 = 128\n",
      "16 X 9 = 144\n",
      "16 X 10 = 160\n",
      "16 X 11 = 176\n",
      "16 X 12 = 192\n",
      "16 X 13 = 208\n",
      "16 X 14 = 224\n",
      "16 X 15 = 240\n",
      "16 X 16 = 256\n",
      "16 X 17 = 272\n",
      "16 X 18 = 288\n",
      "16 X 19 = 304\n",
      "17 X 1 = 17\n",
      "17 X 2 = 34\n",
      "17 X 3 = 51\n",
      "17 X 4 = 68\n",
      "17 X 5 = 85\n",
      "17 X 6 = 102\n",
      "17 X 7 = 119\n",
      "17 X 8 = 136\n",
      "17 X 9 = 153\n",
      "17 X 10 = 170\n",
      "17 X 11 = 187\n",
      "17 X 12 = 204\n",
      "17 X 13 = 221\n",
      "17 X 14 = 238\n",
      "17 X 15 = 255\n",
      "17 X 16 = 272\n",
      "17 X 17 = 289\n",
      "17 X 18 = 306\n",
      "17 X 19 = 323\n",
      "17구구단에서 나온 값들 중 소수는 :  17 이다.\n",
      "18 X 1 = 18\n",
      "18 X 2 = 36\n",
      "18 X 3 = 54\n",
      "18 X 4 = 72\n",
      "18 X 5 = 90\n",
      "18 X 6 = 108\n",
      "18 X 7 = 126\n",
      "18 X 8 = 144\n",
      "18 X 9 = 162\n",
      "18 X 10 = 180\n",
      "18 X 11 = 198\n",
      "18 X 12 = 216\n",
      "18 X 13 = 234\n",
      "18 X 14 = 252\n",
      "18 X 15 = 270\n",
      "18 X 16 = 288\n",
      "18 X 17 = 306\n",
      "18 X 18 = 324\n",
      "18 X 19 = 342\n",
      "19 X 1 = 19\n",
      "19 X 2 = 38\n",
      "19 X 3 = 57\n",
      "19 X 4 = 76\n",
      "19 X 5 = 95\n",
      "19 X 6 = 114\n",
      "19 X 7 = 133\n",
      "19 X 8 = 152\n",
      "19 X 9 = 171\n",
      "19 X 10 = 190\n",
      "19 X 11 = 209\n",
      "19 X 12 = 228\n",
      "19 X 13 = 247\n",
      "19 X 14 = 266\n",
      "19 X 15 = 285\n",
      "19 X 16 = 304\n",
      "19 X 17 = 323\n",
      "19 X 18 = 342\n",
      "19 X 19 = 361\n",
      "19구구단에서 나온 값들 중 소수는 :  19 이다.\n"
     ]
    }
   ],
   "source": [
    "num = range(1,20)\n",
    "i = 0\n",
    "\n",
    "while i < 19:\n",
    "    \n",
    "    i = i + 1\n",
    "    temp = []\n",
    "    temp2 = []\n",
    "    \n",
    "    for j in num:\n",
    "        \n",
    "        temp.append(i * j)\n",
    "        print(i,'X',j,'=',i * j)\n",
    "    \n",
    "    for k in temp:\n",
    "        \n",
    "        counts=0\n",
    "        \n",
    "        for m in range(1,max(temp)+1):\n",
    "            \n",
    "            if k%m==0:\n",
    "                counts = counts +1\n",
    "        \n",
    "        if counts == 2:\n",
    "            print(str(i)+'구구단에서 나온 값들 중 소수는 : ',k,'이다.')\n",
    "                \n",
    "                "
   ]
  },
  {
   "cell_type": "code",
   "execution_count": 37,
   "metadata": {},
   "outputs": [
    {
     "data": {
      "text/plain": [
       "1"
      ]
     },
     "execution_count": 37,
     "metadata": {},
     "output_type": "execute_result"
    }
   ],
   "source": [
    "5%2"
   ]
  }
 ],
 "metadata": {
  "kernelspec": {
   "display_name": "Python 3",
   "language": "python",
   "name": "python3"
  },
  "language_info": {
   "codemirror_mode": {
    "name": "ipython",
    "version": 3
   },
   "file_extension": ".py",
   "mimetype": "text/x-python",
   "name": "python",
   "nbconvert_exporter": "python",
   "pygments_lexer": "ipython3",
   "version": "3.8.5"
  }
 },
 "nbformat": 4,
 "nbformat_minor": 4
}
